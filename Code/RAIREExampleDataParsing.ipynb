{
 "cells": [
  {
   "cell_type": "code",
   "execution_count": 1,
   "metadata": {
    "jupyter": {
     "source_hidden": true
    },
    "scrolled": false
   },
   "outputs": [
    {
     "name": "stdout",
     "output_type": "stream",
     "text": [
      "Apparent winner: 15, SUZY LOFTUS\n",
      "Apparently eliminated: [('45', 'Write-in'), ('16', 'LEIF DAUTCH'), ('17', 'NANCY TUNG'), ('18', 'CHESA BOUDIN')]\n",
      "\n",
      "\n",
      "Built 4 trees to visualise excluded alternate winners.\n"
     ]
    }
   ],
   "source": [
    "import json\n",
    "import svgling\n",
    "from svgling.figure import Caption, SideBySide, RowByRow\n",
    "from IRVVisualisationUtils import treeListToTuple, parseAssertions, printAssertions, buildRemainingTreeAsLists, buildPrintedResults, printTrees\n",
    "\n",
    "a_file = open(\"../AssertionJSON/SFDA2019_PrelimReport9VBMAllPaper_Test1SomeProven.json\")\n",
    "auditfile = json.load(a_file)\n",
    "\n",
    "c_file = open(\"./Data/SFDA_2019_CandidateManifest.json\")\n",
    "candidatefile = json.load(c_file)\n",
    "        \n",
    "(apparentWinner, apparentNonWinners, WOLosers,IRVElims) = parseAssertions(auditfile, candidatefile)\n",
    "                \n",
    "elimTrees = buildPrintedResults(apparentWinner[0], apparentNonWinners, WOLosers,IRVElims)\n",
    "\n",
    "print(\"Built \"+str(len(elimTrees))+\" trees to visualise excluded alternate winners.\")\n"
   ]
  },
  {
   "cell_type": "markdown",
   "metadata": {},
   "source": [
    "# RAIRE example assertion parser and visualizer\n",
    "\n",
    "This notebook parses and visualizes RAIRE assertions.\n",
    "Right now it's hardcoded to read RAIRE_sample_audit1.json, but you can change that.\n",
    "Start by executing the rectangle above to understand the election and the apparent winner.\n",
    "The audit needs to exclude all the other possible winners, though we don't care about other elimination orders in which the apparent winner still wins.\n",
    "Execute the next code snippet to see the trees of possible alternative elimination orders.\n",
    "Each tree will be pruned according to RAIRE's assertions, with each pruned branch tagged with the assertion that allowed us to exclude it.\n",
    "You (the auditor) need to check that all the leaves end in an assertion, which shows that they have been excluded.\n"
   ]
  },
  {
   "cell_type": "code",
   "execution_count": 2,
   "metadata": {
    "jupyter": {
     "source_hidden": true
    }
   },
   "outputs": [
    {
     "data": {
      "image/svg+xml": [
       "<svg baseProfile=\"full\" height=\"738.5px\" preserveAspectRatio=\"xMidYMid meet\" version=\"1.1\" viewBox=\"0,0,824.0,738.5\" width=\"824px\" xmlns=\"http://www.w3.org/2000/svg\" xmlns:ev=\"http://www.w3.org/2001/xml-events\" xmlns:xlink=\"http://www.w3.org/1999/xlink\"><defs /><svg height=\"706.0\" width=\"824.0\" x=\"0\" y=\"0\"><defs /><svg baseProfile=\"full\" height=\"706px\" preserveAspectRatio=\"xMidYMid meet\" version=\"1.1\" viewBox=\"0,0,824.0,706.0\" width=\"824px\" xmlns=\"http://www.w3.org/2000/svg\" xmlns:ev=\"http://www.w3.org/2001/xml-events\" xmlns:xlink=\"http://www.w3.org/1999/xlink\"><defs /><svg height=\"104.5\" width=\"292.5\" x=\"0\" y=\"16\"><defs /><svg baseProfile=\"full\" height=\"104.5px\" preserveAspectRatio=\"xMidYMid meet\" version=\"1.1\" viewBox=\"0,0,292.5,104.5\" width=\"292.5px\" xmlns=\"http://www.w3.org/2000/svg\" xmlns:ev=\"http://www.w3.org/2001/xml-events\" xmlns:xlink=\"http://www.w3.org/1999/xlink\"><defs /><svg height=\"72.0\" width=\"136.0\" x=\"78.25\" y=\"0\"><defs /><svg baseProfile=\"full\" height=\"72px\" preserveAspectRatio=\"xMidYMid meet\" style=\"font-family: times, serif; font-weight:normal; font-style: normal; font-size: 16px;\" version=\"1.1\" viewBox=\"0,0,136.0,72.0\" width=\"136px\" xmlns=\"http://www.w3.org/2000/svg\" xmlns:ev=\"http://www.w3.org/2001/xml-events\" xmlns:xlink=\"http://www.w3.org/1999/xlink\"><defs /><svg width=\"100%\" x=\"0\" y=\"0em\"><defs /><text text-anchor=\"middle\" x=\"50%\" y=\"1em\">45</text></svg><svg width=\"100%\" x=\"0%\" y=\"3em\"><defs /><svg width=\"100%\" x=\"0\" y=\"0em\"><defs /><text text-anchor=\"middle\" x=\"50%\" y=\"1em\">NEB [(1, True)]</text></svg></svg><line stroke=\"black\" x1=\"50%\" x2=\"50%\" y1=\"1.2em\" y2=\"3em\" /></svg></svg><svg height=\"100%\" width=\"100%\" x=\"0\" y=\"78.5\"><defs /><text style=\"font-family: times, serif; font-weight:normal; font-style: italic; font-size: 13px;\" text-anchor=\"middle\" x=\"50%\" y=\"1em\">Pruned tree in which ('45', 'Write-in') wins.</text></svg></svg></svg><svg height=\"553.5\" width=\"824.0\" x=\"0\" y=\"136.5\"><defs /><svg baseProfile=\"full\" height=\"553.5px\" preserveAspectRatio=\"xMidYMid meet\" version=\"1.1\" viewBox=\"0,0,824.0,553.5\" width=\"824px\" xmlns=\"http://www.w3.org/2000/svg\" xmlns:ev=\"http://www.w3.org/2001/xml-events\" xmlns:xlink=\"http://www.w3.org/1999/xlink\"><defs /><svg height=\"104.5\" width=\"312.0\" x=\"0\" y=\"16\"><defs /><svg baseProfile=\"full\" height=\"104.5px\" preserveAspectRatio=\"xMidYMid meet\" version=\"1.1\" viewBox=\"0,0,312.0,104.5\" width=\"312px\" xmlns=\"http://www.w3.org/2000/svg\" xmlns:ev=\"http://www.w3.org/2001/xml-events\" xmlns:xlink=\"http://www.w3.org/1999/xlink\"><defs /><svg height=\"72.0\" width=\"136.0\" x=\"88.0\" y=\"0\"><defs /><svg baseProfile=\"full\" height=\"72px\" preserveAspectRatio=\"xMidYMid meet\" style=\"font-family: times, serif; font-weight:normal; font-style: normal; font-size: 16px;\" version=\"1.1\" viewBox=\"0,0,136.0,72.0\" width=\"136px\" xmlns=\"http://www.w3.org/2000/svg\" xmlns:ev=\"http://www.w3.org/2001/xml-events\" xmlns:xlink=\"http://www.w3.org/1999/xlink\"><defs /><svg width=\"100%\" x=\"0\" y=\"0em\"><defs /><text text-anchor=\"middle\" x=\"50%\" y=\"1em\">16</text></svg><svg width=\"100%\" x=\"0%\" y=\"3em\"><defs /><svg width=\"100%\" x=\"0\" y=\"0em\"><defs /><text text-anchor=\"middle\" x=\"50%\" y=\"1em\">NEB [(0, True)]</text></svg></svg><line stroke=\"black\" x1=\"50%\" x2=\"50%\" y1=\"1.2em\" y2=\"3em\" /></svg></svg><svg height=\"100%\" width=\"100%\" x=\"0\" y=\"78.5\"><defs /><text style=\"font-family: times, serif; font-weight:normal; font-style: italic; font-size: 13px;\" text-anchor=\"middle\" x=\"50%\" y=\"1em\">Pruned tree in which ('16', 'LEIF DAUTCH') wins.</text></svg></svg></svg><svg height=\"401.0\" width=\"824.0\" x=\"0\" y=\"136.5\"><defs /><svg baseProfile=\"full\" height=\"401px\" preserveAspectRatio=\"xMidYMid meet\" version=\"1.1\" viewBox=\"0,0,824.0,401.0\" width=\"824px\" xmlns=\"http://www.w3.org/2000/svg\" xmlns:ev=\"http://www.w3.org/2001/xml-events\" xmlns:xlink=\"http://www.w3.org/1999/xlink\"><defs /><svg height=\"152.5\" width=\"544.0\" x=\"0\" y=\"16\"><defs /><svg baseProfile=\"full\" height=\"152.5px\" preserveAspectRatio=\"xMidYMid meet\" version=\"1.1\" viewBox=\"0,0,544.0,152.5\" width=\"544px\" xmlns=\"http://www.w3.org/2000/svg\" xmlns:ev=\"http://www.w3.org/2001/xml-events\" xmlns:xlink=\"http://www.w3.org/1999/xlink\"><defs /><svg height=\"120.0\" width=\"544.0\" x=\"0\" y=\"0\"><defs /><svg baseProfile=\"full\" height=\"120px\" preserveAspectRatio=\"xMidYMid meet\" style=\"font-family: times, serif; font-weight:normal; font-style: normal; font-size: 16px;\" version=\"1.1\" viewBox=\"0,0,544.0,120.0\" width=\"544px\" xmlns=\"http://www.w3.org/2000/svg\" xmlns:ev=\"http://www.w3.org/2001/xml-events\" xmlns:xlink=\"http://www.w3.org/1999/xlink\"><defs /><svg width=\"100%\" x=\"0\" y=\"0em\"><defs /><text text-anchor=\"middle\" x=\"50%\" y=\"1em\">17</text></svg><svg width=\"25%\" x=\"0%\" y=\"3em\"><defs /><svg width=\"100%\" x=\"0\" y=\"0em\"><defs /><text text-anchor=\"middle\" x=\"50%\" y=\"1em\">18</text></svg><svg width=\"100%\" x=\"0%\" y=\"3em\"><defs /><svg width=\"100%\" x=\"0\" y=\"0em\"><defs /><text text-anchor=\"middle\" x=\"50%\" y=\"1em\">NEN [(1, True)]</text></svg></svg><line stroke=\"black\" x1=\"50%\" x2=\"50%\" y1=\"1.2em\" y2=\"3em\" /></svg><line stroke=\"black\" x1=\"50%\" x2=\"12.5%\" y1=\"1.2em\" y2=\"3em\" /><svg width=\"25%\" x=\"25%\" y=\"3em\"><defs /><svg width=\"100%\" x=\"0\" y=\"0em\"><defs /><text text-anchor=\"middle\" x=\"50%\" y=\"1em\">15</text></svg><svg width=\"100%\" x=\"0%\" y=\"3em\"><defs /><svg width=\"100%\" x=\"0\" y=\"0em\"><defs /><text text-anchor=\"middle\" x=\"50%\" y=\"1em\">NEN [(3, True)]</text></svg></svg><line stroke=\"black\" x1=\"50%\" x2=\"50%\" y1=\"1.2em\" y2=\"3em\" /></svg><line stroke=\"black\" x1=\"50%\" x2=\"37.5%\" y1=\"1.2em\" y2=\"3em\" /><svg width=\"25%\" x=\"50%\" y=\"3em\"><defs /><svg width=\"100%\" x=\"0\" y=\"0em\"><defs /><text text-anchor=\"middle\" x=\"50%\" y=\"1em\">45</text></svg><svg width=\"100%\" x=\"0%\" y=\"3em\"><defs /><svg width=\"100%\" x=\"0\" y=\"0em\"><defs /><text text-anchor=\"middle\" x=\"50%\" y=\"1em\">NEB [(1, True)]</text></svg></svg><line stroke=\"black\" x1=\"50%\" x2=\"50%\" y1=\"1.2em\" y2=\"3em\" /></svg><line stroke=\"black\" x1=\"50%\" x2=\"62.5%\" y1=\"1.2em\" y2=\"3em\" /><svg width=\"25%\" x=\"75%\" y=\"3em\"><defs /><svg width=\"100%\" x=\"0\" y=\"0em\"><defs /><text text-anchor=\"middle\" x=\"50%\" y=\"1em\">16</text></svg><svg width=\"100%\" x=\"0%\" y=\"3em\"><defs /><svg width=\"100%\" x=\"0\" y=\"0em\"><defs /><text text-anchor=\"middle\" x=\"50%\" y=\"1em\">NEB [(0, True)]</text></svg></svg><line stroke=\"black\" x1=\"50%\" x2=\"50%\" y1=\"1.2em\" y2=\"3em\" /></svg><line stroke=\"black\" x1=\"50%\" x2=\"87.5%\" y1=\"1.2em\" y2=\"3em\" /></svg></svg><svg height=\"100%\" width=\"100%\" x=\"0\" y=\"126.5\"><defs /><text style=\"font-family: times, serif; font-weight:normal; font-style: italic; font-size: 13px;\" text-anchor=\"middle\" x=\"50%\" y=\"1em\">Pruned tree in which ('17', 'NANCY TUNG') wins.</text></svg></svg></svg><svg height=\"200.5\" width=\"824.0\" x=\"0\" y=\"184.5\"><defs /><svg baseProfile=\"full\" height=\"200.5px\" preserveAspectRatio=\"xMidYMid meet\" version=\"1.1\" viewBox=\"0,0,824.0,200.5\" width=\"824px\" xmlns=\"http://www.w3.org/2000/svg\" xmlns:ev=\"http://www.w3.org/2001/xml-events\" xmlns:xlink=\"http://www.w3.org/1999/xlink\"><defs /><svg height=\"168.0\" width=\"824.0\" x=\"0\" y=\"0\"><defs /><svg baseProfile=\"full\" height=\"168px\" preserveAspectRatio=\"xMidYMid meet\" style=\"font-family: times, serif; font-weight:normal; font-style: normal; font-size: 16px;\" version=\"1.1\" viewBox=\"0,0,824.0,168.0\" width=\"824px\" xmlns=\"http://www.w3.org/2000/svg\" xmlns:ev=\"http://www.w3.org/2001/xml-events\" xmlns:xlink=\"http://www.w3.org/1999/xlink\"><defs /><svg width=\"100%\" x=\"0\" y=\"0em\"><defs /><text text-anchor=\"middle\" x=\"50%\" y=\"1em\">18</text></svg><svg width=\"49.5146%\" x=\"0%\" y=\"3em\"><defs /><svg width=\"100%\" x=\"0\" y=\"0em\"><defs /><text text-anchor=\"middle\" x=\"50%\" y=\"1em\">17</text></svg><svg width=\"33.3333%\" x=\"0%\" y=\"3em\"><defs /><svg width=\"100%\" x=\"0\" y=\"0em\"><defs /><text text-anchor=\"middle\" x=\"50%\" y=\"1em\">16</text></svg><svg width=\"100%\" x=\"0%\" y=\"3em\"><defs /><svg width=\"100%\" x=\"0\" y=\"0em\"><defs /><text text-anchor=\"middle\" x=\"50%\" y=\"1em\">NEB [(0, True)]</text></svg></svg><line stroke=\"black\" x1=\"50%\" x2=\"50%\" y1=\"1.2em\" y2=\"3em\" /></svg><line stroke=\"black\" x1=\"50%\" x2=\"16.6667%\" y1=\"1.2em\" y2=\"3em\" /><svg width=\"33.3333%\" x=\"33.3333%\" y=\"3em\"><defs /><svg width=\"100%\" x=\"0\" y=\"0em\"><defs /><text text-anchor=\"middle\" x=\"50%\" y=\"1em\">45</text></svg><svg width=\"100%\" x=\"0%\" y=\"3em\"><defs /><svg width=\"100%\" x=\"0\" y=\"0em\"><defs /><text text-anchor=\"middle\" x=\"50%\" y=\"1em\">NEB [(1, True)]</text></svg></svg><line stroke=\"black\" x1=\"50%\" x2=\"50%\" y1=\"1.2em\" y2=\"3em\" /></svg><line stroke=\"black\" x1=\"50%\" x2=\"50%\" y1=\"1.2em\" y2=\"3em\" /><svg width=\"33.3333%\" x=\"66.6667%\" y=\"3em\"><defs /><svg width=\"100%\" x=\"0\" y=\"0em\"><defs /><text text-anchor=\"middle\" x=\"50%\" y=\"1em\">15</text></svg><svg width=\"100%\" x=\"0%\" y=\"3em\"><defs /><svg width=\"100%\" x=\"0\" y=\"0em\"><defs /><text text-anchor=\"middle\" x=\"50%\" y=\"1em\">NEN [(2, True)]</text></svg></svg><line stroke=\"black\" x1=\"50%\" x2=\"50%\" y1=\"1.2em\" y2=\"3em\" /></svg><line stroke=\"black\" x1=\"50%\" x2=\"83.3333%\" y1=\"1.2em\" y2=\"3em\" /></svg><line stroke=\"black\" x1=\"50%\" x2=\"24.7573%\" y1=\"1.2em\" y2=\"3em\" /><svg width=\"17.4757%\" x=\"49.5146%\" y=\"3em\"><defs /><svg width=\"100%\" x=\"0\" y=\"0em\"><defs /><text text-anchor=\"middle\" x=\"50%\" y=\"1em\">15</text></svg><svg width=\"100%\" x=\"0%\" y=\"3em\"><defs /><svg width=\"100%\" x=\"0\" y=\"0em\"><defs /><text text-anchor=\"middle\" x=\"50%\" y=\"1em\">NEN [(0, False)]</text></svg></svg><line stroke=\"black\" x1=\"50%\" x2=\"50%\" y1=\"1.2em\" y2=\"3em\" /></svg><line stroke=\"black\" x1=\"50%\" x2=\"58.2524%\" y1=\"1.2em\" y2=\"3em\" /><svg width=\"16.5049%\" x=\"66.9903%\" y=\"3em\"><defs /><svg width=\"100%\" x=\"0\" y=\"0em\"><defs /><text text-anchor=\"middle\" x=\"50%\" y=\"1em\">45</text></svg><svg width=\"100%\" x=\"0%\" y=\"3em\"><defs /><svg width=\"100%\" x=\"0\" y=\"0em\"><defs /><text text-anchor=\"middle\" x=\"50%\" y=\"1em\">NEB [(1, True)]</text></svg></svg><line stroke=\"black\" x1=\"50%\" x2=\"50%\" y1=\"1.2em\" y2=\"3em\" /></svg><line stroke=\"black\" x1=\"50%\" x2=\"75.2427%\" y1=\"1.2em\" y2=\"3em\" /><svg width=\"16.5049%\" x=\"83.4951%\" y=\"3em\"><defs /><svg width=\"100%\" x=\"0\" y=\"0em\"><defs /><text text-anchor=\"middle\" x=\"50%\" y=\"1em\">16</text></svg><svg width=\"100%\" x=\"0%\" y=\"3em\"><defs /><svg width=\"100%\" x=\"0\" y=\"0em\"><defs /><text text-anchor=\"middle\" x=\"50%\" y=\"1em\">NEB [(0, True)]</text></svg></svg><line stroke=\"black\" x1=\"50%\" x2=\"50%\" y1=\"1.2em\" y2=\"3em\" /></svg><line stroke=\"black\" x1=\"50%\" x2=\"91.7476%\" y1=\"1.2em\" y2=\"3em\" /></svg></svg><svg height=\"100%\" width=\"100%\" x=\"0\" y=\"174.5\"><defs /><text style=\"font-family: times, serif; font-weight:normal; font-style: italic; font-size: 13px;\" text-anchor=\"middle\" x=\"50%\" y=\"1em\">Pruned tree in which ('18', 'CHESA BOUDIN') wins.</text></svg></svg></svg></svg></svg></svg></svg></svg></svg><svg height=\"100%\" width=\"100%\" x=\"0\" y=\"712.5\"><defs /><text style=\"font-family: times, serif; font-weight:normal; font-style: italic; font-size: 13px;\" text-anchor=\"middle\" x=\"50%\" y=\"1em\">Trees showing how other winners are excluded.</text></svg></svg>"
      ],
      "text/plain": [
       "<svgling.figure.Caption at 0x7f6ac4e9b9b0>"
      ]
     },
     "execution_count": 2,
     "metadata": {},
     "output_type": "execute_result"
    }
   ],
   "source": [
    "Caption(printTrees(elimTrees),'Trees showing how other winners are excluded.')\n"
   ]
  },
  {
   "cell_type": "markdown",
   "metadata": {},
   "source": [
    "Now print all the assertions.  This gives you an explanation of the meaning of each one.\n"
   ]
  },
  {
   "cell_type": "code",
   "execution_count": 3,
   "metadata": {
    "jupyter": {
     "source_hidden": true
    }
   },
   "outputs": [
    {
     "name": "stdout",
     "output_type": "stream",
     "text": [
      "Not-Eliminated-Before assertions: \n",
      "Confirmed:   NEB {0:2d}: \u001b[30mCandidate 15 cannot be eliminated before 16.\n",
      "Confirmed:   NEB {0:2d}: \u001b[30mCandidate 15 cannot be eliminated before 45.\n",
      "\n",
      "\n",
      "Not-Eliminated-Next assertions: \n"
     ]
    },
    {
     "ename": "AttributeError",
     "evalue": "'AnsiFore' object has no attribute 'ORANGE'",
     "output_type": "error",
     "traceback": [
      "\u001b[0;31m---------------------------------------------------------------------------\u001b[0m",
      "\u001b[0;31mAttributeError\u001b[0m                            Traceback (most recent call last)",
      "\u001b[0;32m<ipython-input-3-bb09b8be60ff>\u001b[0m in \u001b[0;36m<module>\u001b[0;34m\u001b[0m\n\u001b[0;32m----> 1\u001b[0;31m \u001b[0mprintAssertions\u001b[0m\u001b[0;34m(\u001b[0m\u001b[0mWOLosers\u001b[0m\u001b[0;34m,\u001b[0m\u001b[0mIRVElims\u001b[0m\u001b[0;34m)\u001b[0m\u001b[0;34m\u001b[0m\u001b[0;34m\u001b[0m\u001b[0m\n\u001b[0m",
      "\u001b[0;32m/opt/shared/Code/IRVVisualisationUtils.py\u001b[0m in \u001b[0;36mprintAssertions\u001b[0;34m(WOLosers, IRVElims)\u001b[0m\n\u001b[1;32m    151\u001b[0m         \u001b[0mprint\u001b[0m\u001b[0;34m(\u001b[0m\u001b[0;34m\"Not-Eliminated-Next assertions: \"\u001b[0m\u001b[0;34m)\u001b[0m\u001b[0;34m\u001b[0m\u001b[0;34m\u001b[0m\u001b[0m\n\u001b[1;32m    152\u001b[0m     \u001b[0;32mfor\u001b[0m \u001b[0mwinner\u001b[0m \u001b[0;32min\u001b[0m \u001b[0mIRVElims\u001b[0m\u001b[0;34m:\u001b[0m\u001b[0;34m\u001b[0m\u001b[0;34m\u001b[0m\u001b[0m\n\u001b[0;32m--> 153\u001b[0;31m         \u001b[0mproofString\u001b[0m \u001b[0;34m=\u001b[0m \u001b[0mmakeProofString\u001b[0m\u001b[0;34m(\u001b[0m\u001b[0mwinner\u001b[0m\u001b[0;34m)\u001b[0m\u001b[0;34m\u001b[0m\u001b[0;34m\u001b[0m\u001b[0m\n\u001b[0m\u001b[1;32m    154\u001b[0m         \u001b[0mprint\u001b[0m\u001b[0;34m(\u001b[0m\u001b[0mproofString\u001b[0m\u001b[0;34m+\u001b[0m\u001b[0;34m'NEN {0:2d}:'\u001b[0m\u001b[0;34m+\u001b[0m\u001b[0mFore\u001b[0m\u001b[0;34m.\u001b[0m\u001b[0mBLACK\u001b[0m\u001b[0;34m+\u001b[0m\u001b[0;34m' Candidate '\u001b[0m\u001b[0;34m.\u001b[0m\u001b[0mformat\u001b[0m\u001b[0;34m(\u001b[0m\u001b[0mIRVElims\u001b[0m\u001b[0;34m.\u001b[0m\u001b[0mindex\u001b[0m\u001b[0;34m(\u001b[0m\u001b[0mwinner\u001b[0m\u001b[0;34m)\u001b[0m\u001b[0;34m)\u001b[0m\u001b[0;34m+\u001b[0m\u001b[0mstr\u001b[0m\u001b[0;34m(\u001b[0m\u001b[0mwinner\u001b[0m\u001b[0;34m[\u001b[0m\u001b[0;36m0\u001b[0m\u001b[0;34m]\u001b[0m\u001b[0;34m)\u001b[0m\u001b[0;34m+\u001b[0m\u001b[0;34m' cannot be eliminated next when '\u001b[0m\u001b[0;34m+\u001b[0m\u001b[0mstr\u001b[0m\u001b[0;34m(\u001b[0m\u001b[0mwinner\u001b[0m\u001b[0;34m[\u001b[0m\u001b[0;36m1\u001b[0m\u001b[0;34m]\u001b[0m\u001b[0;34m)\u001b[0m\u001b[0;34m+\u001b[0m\u001b[0;34m' are eliminated.'\u001b[0m\u001b[0;34m)\u001b[0m\u001b[0;34m\u001b[0m\u001b[0;34m\u001b[0m\u001b[0m\n\u001b[1;32m    155\u001b[0m \u001b[0;34m\u001b[0m\u001b[0m\n",
      "\u001b[0;32m/opt/shared/Code/IRVVisualisationUtils.py\u001b[0m in \u001b[0;36mmakeProofString\u001b[0;34m(assertionTriple)\u001b[0m\n\u001b[1;32m    158\u001b[0m         \u001b[0;32mreturn\u001b[0m \u001b[0;34m\"Confirmed:   \"\u001b[0m\u001b[0;34m\u001b[0m\u001b[0;34m\u001b[0m\u001b[0m\n\u001b[1;32m    159\u001b[0m     \u001b[0;32melse\u001b[0m\u001b[0;34m:\u001b[0m\u001b[0;34m\u001b[0m\u001b[0;34m\u001b[0m\u001b[0m\n\u001b[0;32m--> 160\u001b[0;31m         \u001b[0;32mreturn\u001b[0m \u001b[0mFore\u001b[0m\u001b[0;34m.\u001b[0m\u001b[0mORANGE\u001b[0m \u001b[0;34m+\u001b[0m \u001b[0;34m\"Unconfirmed: \"\u001b[0m\u001b[0;34m\u001b[0m\u001b[0;34m\u001b[0m\u001b[0m\n\u001b[0m\u001b[1;32m    161\u001b[0m \u001b[0;34m\u001b[0m\u001b[0m\n\u001b[1;32m    162\u001b[0m \u001b[0;34m\u001b[0m\u001b[0m\n",
      "\u001b[0;31mAttributeError\u001b[0m: 'AnsiFore' object has no attribute 'ORANGE'"
     ]
    }
   ],
   "source": [
    "printAssertions(WOLosers,IRVElims)"
   ]
  },
  {
   "cell_type": "markdown",
   "metadata": {},
   "source": [
    "Now the audit begins! We now apply a Risk Limiting Audit to test each of the assertions above.\n",
    "For each assertion, we consider the opposite hypothesis, that candidate C *can* be eliminated at that point. We then try to audit until that hypothesis can be rejected.  If all the hypotheses are rejected, the election result is declared correct.  At any time, if the audit has failed to reject all the hypotheses, a full manual recount can be conducted.\n"
   ]
  }
 ],
 "metadata": {
  "kernelspec": {
   "display_name": "Python 3",
   "language": "python",
   "name": "python3"
  },
  "language_info": {
   "codemirror_mode": {
    "name": "ipython",
    "version": 3
   },
   "file_extension": ".py",
   "mimetype": "text/x-python",
   "name": "python",
   "nbconvert_exporter": "python",
   "pygments_lexer": "ipython3",
   "version": "3.6.7"
  }
 },
 "nbformat": 4,
 "nbformat_minor": 2
}
