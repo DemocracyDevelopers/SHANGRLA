{
 "cells": [
  {
   "cell_type": "markdown",
   "metadata": {},
   "source": [
    "# Assertion RLA"
   ]
  },
  {
   "cell_type": "markdown",
   "metadata": {},
   "source": [
    "## Overview of the assertion audit tool\n",
    "\n",
    "The tool requires as input:\n",
    "\n",
    "+ audit-specific and contest-specific parameters, such as\n",
    "    - whether to sample with or without replacement\n",
    "    - the name of the risk function to use, and any parameters it requires\n",
    "    - a risk limit for each contest to be audited\n",
    "    - the social choice function for each contest, including the number of winners\n",
    "    - candidate identifiers\n",
    "+ a ballot manifest**\n",
    "+ a random seed\n",
    "+ a file of cast vote records\n",
    "+ reported results for each contest\n",
    "+ json files of assertions for IRV contests (one file per IRV contest)\n",
    "+ human reading of voter intent from the paper ballots selected for audit\n",
    "\n",
    "** The ballot manifest could be only for ballots purported to contain the\n",
    "contests under audit (manifest_type == \"STYLE\"), or could include ballots that might not contain the\n",
    "contest (manifest_type == \"ALL\"). These are treated differently. If the manifest lists only ballots purported\n",
    "to contain the contest under audit and a sampled ballot turns out not to\n",
    "contain the contest, that is considered a discrepancy, dealt with using the \"phantoms to zombies\" approach.\n",
    "\n",
    "The tool helps select ballots for audit, and reports when the audit has found sufficiently strong evidence to stop.\n",
    "\n",
    "The tool exports a log of all the audit inputs except the CVR file, but including the auditors' manually determined voter intent from the audited ballots.\n",
    "\n",
    "The current version uses a single sample to audit all contests. It would be possible to refine things to target smaller contests."
   ]
  },
  {
   "cell_type": "code",
   "execution_count": 1,
   "metadata": {},
   "outputs": [],
   "source": [
    "from __future__ import division, print_function\n",
    "\n",
    "import math\n",
    "import json\n",
    "import warnings\n",
    "import numpy as np\n",
    "import pandas as pd\n",
    "import csv\n",
    "\n",
    "from collections import OrderedDict\n",
    "from IPython.display import display, HTML\n",
    "\n",
    "from cryptorandom.cryptorandom import SHA256\n",
    "from cryptorandom.sample import sample_by_index\n",
    "\n",
    "from assertion_audit_utils import \\\n",
    "    Assertion, Assorter, CVR, TestNonnegMean, check_audit_parameters, write_audit_parameters\n",
    "from dominion_tools import \\\n",
    "    prep_dominion_manifest, sample_from_manifest, write_ballots_sampled\n"
   ]
  },
  {
   "cell_type": "markdown",
   "metadata": {},
   "source": [
    "# Audit parameters.\n",
    "\n",
    "* `seed`: the numeric seed for the pseudo-random number generator used to draw sample \n",
    "* `replacement`: whether to sample with replacement. If the sample is drawn with replacement, gamma must also be specified.\n",
    "* `risk_function`: the function to be used to measure risk. Options are `kaplan_markov`,`kaplan_wald`,`kaplan_kolmogorov`,`wald_sprt`,`kaplan_martingale`. Not all risk functions work with every social choice function. `wald_sprt` applies only to plurality contests.\n",
    "* `g`: a parameter to hedge against the possibility of observing a maximum overstatement. Require $g \\in [0, 1)$ for `kaplan_markov` and `kaplan_wald`\n",
    "* `N_cards`: an upper bound on the number of pieces of paper cast in the contest. This should be derived independently of the voting system. A ballot consists of one or more cards.\n",
    "\n",
    "----\n",
    "\n",
    "* `cvr_file`: filename for CVRs (input)\n",
    "* `manifest_file`: filename for ballot manifest (input)\n",
    "* `manifest_type`: \"STYLE\" if the manifest is supposed to list only ballots that contain the contests under audit; \"ALL\" if the manifest contains all ballots cast in the election\n",
    "* `assertion_file`: filename of assertions for IRV contests, in RAIRE format\n",
    "* `sample_file`: filename for sampled ballot identifiers (output)\n",
    "* `mvr_file`: filename for manually ascertained votes from sampled ballots (input)\n",
    "* `log_file`: filename for audit log (output)\n",
    "\n",
    "----\n",
    "\n",
    "* `error_rates`: dict of expected error rates. The keys are\n",
    "    + `o1_rate`: expected rate of 1-vote overstatements. Recommended value $\\ge$ 0.001 if there are hand-marked ballots. Larger values increase the initial sample size, but make it more likely that the audit will conclude in a single round if the audit finds errors\n",
    "    + `o2_rate`: expected rate of 2-vote overstatements. Recommended value 0.\n",
    "    + `u1_rate`: expected rate of 1-vote understatements. Recommended value 0.\n",
    "    + `u2_rate`: expected rate of 2-vote understatements. Recommended value 0.\n",
    "\n",
    "* `contests`: a dict of contest-specific data \n",
    "    + the keys are unique contest identifiers for contests under audit\n",
    "    + the values are dicts with keys:\n",
    "        - `risk_limit`: the risk limit for the audit of this contest\n",
    "        - `ballots_cast`: an upper bound on the number of cast ballots that contain the contest\n",
    "        - `choice_function`: `plurality`, `supermajority`, or `IRV`\n",
    "        - `n_winners`: number of winners for majority contests. (Multi-winner IRV not supported; multi-winner super-majority is nonsense)\n",
    "        - `share_to_win`: for super-majority contests, the fraction of valid votes required to win, e.g., 2/3.\n",
    "        - `candidates`: list of names or identifiers of candidates\n",
    "        - `reported_winners` : list of identifier(s) of candidate(s) reported to have won. Length should equal `n_winners`.\n",
    "        - `assertion_file`: filename for a set of json descriptors of Assertions (see technical documentation) that collectively imply the reported outcome of the contest is correct. Required for IRV; ignored for other social choice functions"
   ]
  },
  {
   "cell_type": "code",
   "execution_count": 2,
   "metadata": {},
   "outputs": [],
   "source": [
    "seed = 12345678901234567890  # use, e.g., 20 rolls of a 10-sided die. Seed doesn't have to be numeric\n",
    "replacement = True  # Sampling without replacement isn't implemented\n",
    "risk_function = \"kaplan_martingale\"\n",
    "g=0.1\n",
    "N_cards = 300000"
   ]
  },
  {
   "cell_type": "code",
   "execution_count": 3,
   "metadata": {},
   "outputs": [],
   "source": [
    "cvr_file = './Data/SFDA_2019_Nov8Partial.raire'\n",
    "manifest_file = './Data/ballot manifest-Sample.xlsx'\n",
    "manifest_type = 'STYLE'\n",
    "sample_file = './Data/sample.csv'\n",
    "mvr_file = './Data/mvr.json'\n",
    "log_file = './Data/log.json'"
   ]
  },
  {
   "cell_type": "code",
   "execution_count": 4,
   "metadata": {},
   "outputs": [],
   "source": [
    "error_rates = {'o1_rate':0.002,      # expect 2 1-vote overstatements per 1000 ballots in the CVR stratum\n",
    "               'o2_rate':0,          # expect 0 2-vote overstatements\n",
    "               'u1_rate':0,          # expect 0 1-vote understatements\n",
    "               'u2_rate':0}          # expect 0 2-vote understatements"
   ]
  },
  {
   "cell_type": "code",
   "execution_count": 5,
   "metadata": {},
   "outputs": [],
   "source": [
    "# contests to audit. Contest 339 is the DA race\n",
    "contests = {'339':{'risk_limit':0.05,\n",
    "                     'choice_function':'IRV',\n",
    "                     'n_winners':1,\n",
    "                     'candidates':['15','16','17','18','45'],\n",
    "                     'reported_winners' : ['15'],\n",
    "                     'assertion_file' : './Data/SF2019Nov8Assertions.json'\n",
    "                    }\n",
    "           }"
   ]
  },
  {
   "cell_type": "markdown",
   "metadata": {},
   "source": [
    "Example of other social choice functions:\n",
    "\n",
    "> contests =  {'city_council':{'risk_limit':0.05,\n",
    "                     'choice_function':'plurality',\n",
    "                     'n_winners':3,\n",
    "                     'candidates':['Doug','Emily','Frank','Gail','Harry'],\n",
    "                     'reported_winners' : ['Doug', 'Emily', 'Frank']\n",
    "                    },\n",
    "            'measure_1':{'risk_limit':0.05,\n",
    "                     'choice_function':'supermajority',\n",
    "                     'share_to_win':2/3,\n",
    "                     'n_winners':1,\n",
    "                     'candidates':['yes','no'],\n",
    "                     'reported_winners' : ['yes']\n",
    "                    }                  \n",
    "           }"
   ]
  },
  {
   "cell_type": "markdown",
   "metadata": {},
   "source": [
    "## Find audit parameters and conduct audit\n",
    "\n",
    "* For each contest:\n",
    "    - find claimed outcome by applying SCF to CVRs\n",
    "    - complain if claimed outcome disagrees with reported outcome\n",
    "    - construct assertions that imply contest outcome is correct\n",
    "    - for each assertion:\n",
    "        + find generalized diluted margin\n",
    "        \n",
    "* Find initial (incremental) sample size from smallest diluted margin, for the sampling plan\n",
    "    - Complain if expected error rates imply any assertion is incorrect\n",
    "\n",
    "* For each assertion:\n",
    "    - Initialize discrepancy counts to zero (o1, o2, u1, u2)\n",
    "    - Initialize measured risk to 1\n",
    "* While measured risk for any assertion exceeds its risk limit:\n",
    "    - expand sample by estimated increment\n",
    "        + identify ballots in manifest\n",
    "        + update the log file with incremental sample\n",
    "    - import audit results when ballots have been audited\n",
    "    - for each assertion:\n",
    "        + for each sampled ballot:\n",
    "            - increment discrepancy count for the assertion\n",
    "        + find measured risk\n",
    "    - update log file with new measured risks\n",
    "    - if any measured risk exceeds its risk limit:\n",
    "        + estimate incremental sample required to complete the audit"
   ]
  },
  {
   "cell_type": "code",
   "execution_count": 6,
   "metadata": {},
   "outputs": [],
   "source": [
    "# read the assertions for the IRV contest\n",
    "for c in contests:\n",
    "    if contests[c]['choice_function'] == 'IRV':\n",
    "        with open(contests[c]['assertion_file'], 'r') as f:\n",
    "            contests[c]['assertion_json'] = json.load(f)['audits'][0]['assertions']"
   ]
  },
  {
   "cell_type": "code",
   "execution_count": 7,
   "metadata": {},
   "outputs": [],
   "source": [
    "# construct the dict of dicts of assertions for each contest\n",
    "all_assertions = Assertion.make_all_assertions(contests)"
   ]
  },
  {
   "cell_type": "code",
   "execution_count": 8,
   "metadata": {
    "scrolled": true
   },
   "outputs": [
    {
     "data": {
      "text/plain": [
       "{'339': {'18 v 17 elim 15 16 45': <assertion_audit_utils.Assertion at 0x116579710>,\n",
       "  '17 v 16 elim 15 18 45': <assertion_audit_utils.Assertion at 0x116579550>,\n",
       "  '15 v 18 elim 16 17 45': <assertion_audit_utils.Assertion at 0x1165796a0>,\n",
       "  '18 v 16 elim 15 17 45': <assertion_audit_utils.Assertion at 0x116579630>,\n",
       "  '17 v 16 elim 15 45': <assertion_audit_utils.Assertion at 0x1165795f8>,\n",
       "  '15 v 17 elim 16 45': <assertion_audit_utils.Assertion at 0x116579470>,\n",
       "  '15 v 17 elim 16 18 45': <assertion_audit_utils.Assertion at 0x116579390>,\n",
       "  '18 v 16 elim 15 45': <assertion_audit_utils.Assertion at 0x116579438>,\n",
       "  '15 v 16 elim 17 45': <assertion_audit_utils.Assertion at 0x1165792e8>,\n",
       "  '15 v 16 elim 17 18 45': <assertion_audit_utils.Assertion at 0x116579240>,\n",
       "  '15 v 16 elim 18 45': <assertion_audit_utils.Assertion at 0x116579860>,\n",
       "  '15 v 16 elim 45': <assertion_audit_utils.Assertion at 0x116579cc0>,\n",
       "  '15 v 45': <assertion_audit_utils.Assertion at 0x116579c50>}}"
      ]
     },
     "execution_count": 8,
     "metadata": {},
     "output_type": "execute_result"
    }
   ],
   "source": [
    "all_assertions"
   ]
  },
  {
   "cell_type": "markdown",
   "metadata": {},
   "source": [
    "## Read the ballot manifest"
   ]
  },
  {
   "cell_type": "code",
   "execution_count": null,
   "metadata": {},
   "outputs": [],
   "source": [
    "# special for SF/Dominion manifest format\n",
    "manifest = pd.read_excel(manifest_file)"
   ]
  },
  {
   "cell_type": "markdown",
   "metadata": {},
   "source": [
    "## Read the CVRs "
   ]
  },
  {
   "cell_type": "code",
   "execution_count": 10,
   "metadata": {},
   "outputs": [
    {
     "name": "stdout",
     "output_type": "stream",
     "text": [
      "Read 118151 rows\n"
     ]
    }
   ],
   "source": [
    "cvr_input = []\n",
    "with open(cvr_file) as f:\n",
    "    cvr_reader = csv.reader(f, delimiter=',', quotechar='\"')\n",
    "    for row in cvr_reader:\n",
    "        cvr_input.append(row)\n",
    "\n",
    "print(\"Read {} rows\".format(len(cvr_input)))"
   ]
  },
  {
   "cell_type": "code",
   "execution_count": 11,
   "metadata": {},
   "outputs": [
    {
     "name": "stdout",
     "output_type": "stream",
     "text": [
      "After merging, there are CVRs for 118149 ballots\n"
     ]
    }
   ],
   "source": [
    "# Import CVRs\n",
    "cvr_list = CVR.from_raire(cvr_input)\n",
    "print(\"After merging, there are CVRs for {} cards\".format(len(cvr_list)))"
   ]
  },
  {
   "cell_type": "code",
   "execution_count": 16,
   "metadata": {},
   "outputs": [
    {
     "name": "stdout",
     "output_type": "stream",
     "text": [
      "99813_1_1\n",
      "99813_1_3\n",
      "99813_1_6\n",
      "99813_1_8\n",
      "99813_1_9\n",
      "99813_1_11\n",
      "99813_1_13\n",
      "99813_1_16\n",
      "99813_1_17\n",
      "99813_1_19\n"
     ]
    }
   ],
   "source": [
    "for i in range(10):\n",
    "    print(cvr_list[i].id)"
   ]
  },
  {
   "cell_type": "code",
   "execution_count": 9,
   "metadata": {},
   "outputs": [
    {
     "name": "stderr",
     "output_type": "stream",
     "text": [
      "/Users/stark/Dropbox/Letters/Ms/Vote/Assertion19/Code/dominion_tools.py:28: UserWarning: Manifest does not account for every ballot cast; adding a phantom batch\n",
      "  warnings.warn('Manifest does not account for every ballot cast; adding a phantom batch')\n"
     ]
    },
    {
     "data": {
      "text/html": [
       "<div>\n",
       "<style scoped>\n",
       "    .dataframe tbody tr th:only-of-type {\n",
       "        vertical-align: middle;\n",
       "    }\n",
       "\n",
       "    .dataframe tbody tr th {\n",
       "        vertical-align: top;\n",
       "    }\n",
       "\n",
       "    .dataframe thead th {\n",
       "        text-align: right;\n",
       "    }\n",
       "</style>\n",
       "<table border=\"1\" class=\"dataframe\">\n",
       "  <thead>\n",
       "    <tr style=\"text-align: right;\">\n",
       "      <th></th>\n",
       "      <th>Tray #</th>\n",
       "      <th>Tabulator Number</th>\n",
       "      <th>Batch Number</th>\n",
       "      <th>Total Ballots</th>\n",
       "      <th>VBMCart.Cart number</th>\n",
       "      <th>cum_ballots</th>\n",
       "    </tr>\n",
       "  </thead>\n",
       "  <tbody>\n",
       "    <tr>\n",
       "      <th>0</th>\n",
       "      <td>1</td>\n",
       "      <td>99808</td>\n",
       "      <td>81</td>\n",
       "      <td>76</td>\n",
       "      <td>3</td>\n",
       "      <td>76</td>\n",
       "    </tr>\n",
       "    <tr>\n",
       "      <th>1</th>\n",
       "      <td>1</td>\n",
       "      <td>99808</td>\n",
       "      <td>78</td>\n",
       "      <td>116</td>\n",
       "      <td>3</td>\n",
       "      <td>192</td>\n",
       "    </tr>\n",
       "    <tr>\n",
       "      <th>2</th>\n",
       "      <td>1</td>\n",
       "      <td>99808</td>\n",
       "      <td>80</td>\n",
       "      <td>116</td>\n",
       "      <td>3</td>\n",
       "      <td>308</td>\n",
       "    </tr>\n",
       "    <tr>\n",
       "      <th>3</th>\n",
       "      <td>1</td>\n",
       "      <td>99808</td>\n",
       "      <td>79</td>\n",
       "      <td>120</td>\n",
       "      <td>3</td>\n",
       "      <td>428</td>\n",
       "    </tr>\n",
       "    <tr>\n",
       "      <th>4</th>\n",
       "      <td>1</td>\n",
       "      <td>99808</td>\n",
       "      <td>77</td>\n",
       "      <td>115</td>\n",
       "      <td>3</td>\n",
       "      <td>543</td>\n",
       "    </tr>\n",
       "    <tr>\n",
       "      <th>5</th>\n",
       "      <td>2</td>\n",
       "      <td>99804</td>\n",
       "      <td>9</td>\n",
       "      <td>100</td>\n",
       "      <td>2</td>\n",
       "      <td>643</td>\n",
       "    </tr>\n",
       "    <tr>\n",
       "      <th>6</th>\n",
       "      <td>2</td>\n",
       "      <td>99804</td>\n",
       "      <td>6</td>\n",
       "      <td>118</td>\n",
       "      <td>2</td>\n",
       "      <td>761</td>\n",
       "    </tr>\n",
       "    <tr>\n",
       "      <th>7</th>\n",
       "      <td>2</td>\n",
       "      <td>99804</td>\n",
       "      <td>7</td>\n",
       "      <td>129</td>\n",
       "      <td>2</td>\n",
       "      <td>890</td>\n",
       "    </tr>\n",
       "    <tr>\n",
       "      <th>8</th>\n",
       "      <td>2</td>\n",
       "      <td>99804</td>\n",
       "      <td>8</td>\n",
       "      <td>104</td>\n",
       "      <td>2</td>\n",
       "      <td>994</td>\n",
       "    </tr>\n",
       "    <tr>\n",
       "      <th>9</th>\n",
       "      <td>2</td>\n",
       "      <td>99804</td>\n",
       "      <td>10</td>\n",
       "      <td>97</td>\n",
       "      <td>2</td>\n",
       "      <td>1091</td>\n",
       "    </tr>\n",
       "    <tr>\n",
       "      <th>10</th>\n",
       "      <td>3</td>\n",
       "      <td>99804</td>\n",
       "      <td>37</td>\n",
       "      <td>51</td>\n",
       "      <td>3</td>\n",
       "      <td>1142</td>\n",
       "    </tr>\n",
       "    <tr>\n",
       "      <th>11</th>\n",
       "      <td>3</td>\n",
       "      <td>99804</td>\n",
       "      <td>34</td>\n",
       "      <td>130</td>\n",
       "      <td>3</td>\n",
       "      <td>1272</td>\n",
       "    </tr>\n",
       "    <tr>\n",
       "      <th>12</th>\n",
       "      <td>3</td>\n",
       "      <td>99804</td>\n",
       "      <td>36</td>\n",
       "      <td>121</td>\n",
       "      <td>3</td>\n",
       "      <td>1393</td>\n",
       "    </tr>\n",
       "    <tr>\n",
       "      <th>13</th>\n",
       "      <td>3</td>\n",
       "      <td>99804</td>\n",
       "      <td>33</td>\n",
       "      <td>123</td>\n",
       "      <td>3</td>\n",
       "      <td>1516</td>\n",
       "    </tr>\n",
       "    <tr>\n",
       "      <th>14</th>\n",
       "      <td>3</td>\n",
       "      <td>99804</td>\n",
       "      <td>35</td>\n",
       "      <td>123</td>\n",
       "      <td>3</td>\n",
       "      <td>1639</td>\n",
       "    </tr>\n",
       "    <tr>\n",
       "      <th>15</th>\n",
       "      <td>4</td>\n",
       "      <td>99804</td>\n",
       "      <td>40</td>\n",
       "      <td>93</td>\n",
       "      <td>2</td>\n",
       "      <td>1732</td>\n",
       "    </tr>\n",
       "    <tr>\n",
       "      <th>16</th>\n",
       "      <td>4</td>\n",
       "      <td>99804</td>\n",
       "      <td>43</td>\n",
       "      <td>82</td>\n",
       "      <td>2</td>\n",
       "      <td>1814</td>\n",
       "    </tr>\n",
       "    <tr>\n",
       "      <th>17</th>\n",
       "      <td>4</td>\n",
       "      <td>99804</td>\n",
       "      <td>38</td>\n",
       "      <td>90</td>\n",
       "      <td>2</td>\n",
       "      <td>1904</td>\n",
       "    </tr>\n",
       "    <tr>\n",
       "      <th>18</th>\n",
       "      <td>4</td>\n",
       "      <td>99804</td>\n",
       "      <td>39</td>\n",
       "      <td>92</td>\n",
       "      <td>2</td>\n",
       "      <td>1996</td>\n",
       "    </tr>\n",
       "    <tr>\n",
       "      <th>19</th>\n",
       "      <td>4</td>\n",
       "      <td>99804</td>\n",
       "      <td>42</td>\n",
       "      <td>104</td>\n",
       "      <td>2</td>\n",
       "      <td>2100</td>\n",
       "    </tr>\n",
       "    <tr>\n",
       "      <th>20</th>\n",
       "      <td>4</td>\n",
       "      <td>99804</td>\n",
       "      <td>41</td>\n",
       "      <td>89</td>\n",
       "      <td>2</td>\n",
       "      <td>2189</td>\n",
       "    </tr>\n",
       "    <tr>\n",
       "      <th>21</th>\n",
       "      <td>None</td>\n",
       "      <td>phantom</td>\n",
       "      <td>1</td>\n",
       "      <td>297811</td>\n",
       "      <td>None</td>\n",
       "      <td>300000</td>\n",
       "    </tr>\n",
       "  </tbody>\n",
       "</table>\n",
       "</div>"
      ],
      "text/plain": [
       "   Tray # Tabulator Number Batch Number  Total Ballots VBMCart.Cart number  \\\n",
       "0       1            99808           81             76                   3   \n",
       "1       1            99808           78            116                   3   \n",
       "2       1            99808           80            116                   3   \n",
       "3       1            99808           79            120                   3   \n",
       "4       1            99808           77            115                   3   \n",
       "5       2            99804            9            100                   2   \n",
       "6       2            99804            6            118                   2   \n",
       "7       2            99804            7            129                   2   \n",
       "8       2            99804            8            104                   2   \n",
       "9       2            99804           10             97                   2   \n",
       "10      3            99804           37             51                   3   \n",
       "11      3            99804           34            130                   3   \n",
       "12      3            99804           36            121                   3   \n",
       "13      3            99804           33            123                   3   \n",
       "14      3            99804           35            123                   3   \n",
       "15      4            99804           40             93                   2   \n",
       "16      4            99804           43             82                   2   \n",
       "17      4            99804           38             90                   2   \n",
       "18      4            99804           39             92                   2   \n",
       "19      4            99804           42            104                   2   \n",
       "20      4            99804           41             89                   2   \n",
       "21   None          phantom            1         297811                None   \n",
       "\n",
       "    cum_ballots  \n",
       "0            76  \n",
       "1           192  \n",
       "2           308  \n",
       "3           428  \n",
       "4           543  \n",
       "5           643  \n",
       "6           761  \n",
       "7           890  \n",
       "8           994  \n",
       "9          1091  \n",
       "10         1142  \n",
       "11         1272  \n",
       "12         1393  \n",
       "13         1516  \n",
       "14         1639  \n",
       "15         1732  \n",
       "16         1814  \n",
       "17         1904  \n",
       "18         1996  \n",
       "19         2100  \n",
       "20         2189  \n",
       "21       300000  "
      ]
     },
     "execution_count": 9,
     "metadata": {},
     "output_type": "execute_result"
    }
   ],
   "source": [
    "# [TO DO!]\n",
    "# Need to identify which cards in the manifest have CVRs that purport to contain the contest\n",
    "\n",
    "# Check that each CVR id corresponds to a card in the manifest. If not, complain\n",
    "# \n",
    "n_cvrs = len(cvrs)\n",
    "manifest, manifest_cards, phantom_cards = prep_dominion_manifest(manifest, N_cards, n_cvrs)\n",
    "\n",
    "manifest"
   ]
  },
  {
   "cell_type": "code",
   "execution_count": 12,
   "metadata": {},
   "outputs": [
    {
     "data": {
      "text/plain": [
       "415960"
      ]
     },
     "execution_count": 12,
     "metadata": {},
     "output_type": "execute_result"
    }
   ],
   "source": [
    "# Create CVRs for phantom cards\n",
    "for i in range(phantom_cards):\n",
    "    cvr_list.append(CVR(id='phantom_1_'+str(i+1), votes={}))  # matches expected RAIRE id for parsing later\n",
    "    \n",
    "\n",
    "len(cvr_list)"
   ]
  },
  {
   "cell_type": "code",
   "execution_count": 13,
   "metadata": {},
   "outputs": [
    {
     "data": {
      "text/plain": [
       "2189"
      ]
     },
     "execution_count": 13,
     "metadata": {},
     "output_type": "execute_result"
    }
   ],
   "source": [
    "manifest_cards"
   ]
  },
  {
   "cell_type": "code",
   "execution_count": null,
   "metadata": {},
   "outputs": [],
   "source": [
    "# find the mean of the assorters for the CVRs and check whether the assertions are met\n",
    "assorter_means = {}\n",
    "min_mean = np.infty\n",
    "for c in contests.keys():\n",
    "    contests[c]['cvr_means'] = {}\n",
    "    for asrtn in all_assertions[c]:\n",
    "        # find mean of the assertion for the CVRs\n",
    "        amean = all_assertions[c][asrtn].assorter_mean(cvr_list)\n",
    "        if amean < 1/2:\n",
    "            warn(\"assertion {} not satisfied by CVRs: mean value is {}\".format(asrtn, amean))\n",
    "        contests[c]['cvr_means'][asrtn] = amean\n",
    "        min_mean = np.min([min_mean, amean])\n",
    "\n",
    "print(\"minimum assorter mean {}\".format(min_mean))"
   ]
  },
  {
   "cell_type": "code",
   "execution_count": null,
   "metadata": {},
   "outputs": [],
   "source": [
    "contests"
   ]
  },
  {
   "cell_type": "code",
   "execution_count": null,
   "metadata": {},
   "outputs": [],
   "source": [
    "check_audit_parameters(risk_function, g, error_rates, contests)"
   ]
  },
  {
   "cell_type": "code",
   "execution_count": null,
   "metadata": {},
   "outputs": [],
   "source": [
    "write_audit_parameters(log_file, seed, replacement, risk_function, g, N_cards,\\\n",
    "                       manifest_cards, phantom_cards, error_rates, contests)"
   ]
  },
  {
   "cell_type": "markdown",
   "metadata": {},
   "source": [
    "## Set up for sampling"
   ]
  },
  {
   "cell_type": "markdown",
   "metadata": {},
   "source": [
    "## Estimate initial sample size"
   ]
  },
  {
   "cell_type": "code",
   "execution_count": null,
   "metadata": {},
   "outputs": [],
   "source": [
    "# find initial sample size\n",
    "initial_size = 100 # FIX ME"
   ]
  },
  {
   "cell_type": "markdown",
   "metadata": {},
   "source": [
    "## Draw the first sample"
   ]
  },
  {
   "cell_type": "code",
   "execution_count": null,
   "metadata": {},
   "outputs": [],
   "source": [
    "# draw the initial sample\n",
    "prng = SHA256(seed)\n",
    "sample = sample_by_index(N_cards, initial_size, prng=prng) # 1-indexed\n",
    "phantoms = np.sum(sample > manifest_ballots)\n",
    "print(\"The sample includes {} phantom ballots, which will be treated conservatively.\".format(phantoms))"
   ]
  },
  {
   "cell_type": "code",
   "execution_count": null,
   "metadata": {},
   "outputs": [],
   "source": [
    "# look up the sampled ballots in the manifest\n",
    "sample_ballots = sample_from_cvrs(cvr_list, sample)\n",
    "\n",
    "# write the sample\n",
    "write_ballots_sampled(sample_file, sample_ballots, print_phantoms=False)"
   ]
  },
  {
   "cell_type": "markdown",
   "metadata": {},
   "source": [
    "## Read the audited sample data"
   ]
  },
  {
   "cell_type": "code",
   "execution_count": null,
   "metadata": {},
   "outputs": [],
   "source": [
    "with open(mvr_file) as f:\n",
    "    mvr_json = json.load(f)\n",
    "\n",
    "mvr = CVR.from_dict(mvr_json['ballots'])"
   ]
  },
  {
   "cell_type": "code",
   "execution_count": null,
   "metadata": {},
   "outputs": [],
   "source": [
    "for i in range(5):\n",
    "    print(mvr[i].id, mvr[i].votes)"
   ]
  },
  {
   "cell_type": "markdown",
   "metadata": {},
   "source": [
    "## Find measured risks for all assertions"
   ]
  },
  {
   "cell_type": "markdown",
   "metadata": {},
   "source": [
    "### Deal with Phantoms/Zombies\n",
    "\n",
    "Given an independent (i.e., not relying on the voting system) upper bound on the number of cards that contain the contest, if the number of CVRs that contain the contest does not exceed that bound, we can sample from paper purported to contain the contest and use the \"zombies\" approach (Banuelos & Stark) to deal with missing CVRs. This can greatly increase the efficiency of the audit if the contest is on only a small percentage of the ballots.\n",
    "\n",
    "Any sampled phantom card (i.e., a card for which there are no CVRs) is treated as if its CVR is a non-vote (which it is), and as if its MVR was least favorable (a \"zombie\" producing the greatest doubt in every assertion, separately). Any sampled card for which\n",
    "there is a CVR is compared to its corresponding CVR. \n",
    "If the card turns out not to contain the contest (despite the fact that the CVR says it does), the MVR is treated in the least favorable way for each assertion (i.e., as a zombie rather than as a non-vote)."
   ]
  },
  {
   "cell_type": "code",
   "execution_count": null,
   "metadata": {},
   "outputs": [],
   "source": [
    "# adjust for phantoms"
   ]
  },
  {
   "cell_type": "code",
   "execution_count": null,
   "metadata": {},
   "outputs": [],
   "source": [
    "# Identify assertions not yet confirmed"
   ]
  },
  {
   "cell_type": "code",
   "execution_count": null,
   "metadata": {},
   "outputs": [],
   "source": [
    "# Log the status of the audit "
   ]
  },
  {
   "cell_type": "markdown",
   "metadata": {},
   "source": [
    "# Escalation: how many more ballots should be drawn?\n",
    "\n",
    "This tool estimates how many more ballots will need to be audited to confirm any remaining contests. The enlarged sample size is based on:\n",
    "\n",
    "* ballots already sampled\n",
    "* assumption that we will continue to see overstatements and understatements at the same rate that observed in the sample"
   ]
  },
  {
   "cell_type": "code",
   "execution_count": null,
   "metadata": {},
   "outputs": [],
   "source": [
    "sample_sizes_new = {}\n",
    "\n",
    "# TBD\n"
   ]
  },
  {
   "cell_type": "code",
   "execution_count": null,
   "metadata": {},
   "outputs": [],
   "source": [
    "# augment the sample\n",
    "# reset the seed\n",
    "prng = SHA256(seed)\n",
    "old_sample = sample\n",
    "sample = sample_by_index(N_cards, sample_size, prng=prng)\n",
    "incremental_sample = np.sort(list(set(sample) - set(old_sample)))\n"
   ]
  },
  {
   "cell_type": "code",
   "execution_count": null,
   "metadata": {},
   "outputs": [],
   "source": []
  }
 ],
 "metadata": {
  "kernelspec": {
   "display_name": "Python 3",
   "language": "python",
   "name": "python3"
  },
  "language_info": {
   "codemirror_mode": {
    "name": "ipython",
    "version": 3
   },
   "file_extension": ".py",
   "mimetype": "text/x-python",
   "name": "python",
   "nbconvert_exporter": "python",
   "pygments_lexer": "ipython3",
   "version": "3.7.3"
  },
  "widgets": {
   "state": {
    "6cab9cab294247839758fa9e8d64d122": {
     "views": [
      {
       "cell_index": 42
      }
     ]
    },
    "b7b0321f834d45ebb1bdc036fba7a916": {
     "views": [
      {
       "cell_index": 38
      }
     ]
    }
   },
   "version": "1.2.0"
  }
 },
 "nbformat": 4,
 "nbformat_minor": 2
}
