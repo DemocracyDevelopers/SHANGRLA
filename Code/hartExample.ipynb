{
 "cells": [
  {
   "cell_type": "code",
   "execution_count": 1,
   "id": "62c948c6-3afa-44f0-bb3b-edba262f4ce3",
   "metadata": {},
   "outputs": [],
   "source": [
    "from hart_tools import (\n",
    "    prep_manifest,\n",
    "    read_hart_cvr, \n",
    "    read_cvrs, \n",
    "    check_for_contest,\n",
    "    filter_cvr_contest,\n",
    "    tabulate_styles\n",
    ")\n",
    "\n",
    "from IPython.core.interactiveshell import InteractiveShell\n",
    "\n",
    "from assertion_audit_utils import \\\n",
    "    Assertion, Assorter, CVR, TestNonnegMean, check_audit_parameters, find_margins,\\\n",
    "    find_p_values, find_sample_size, new_sample_size, summarize_status,\\\n",
    "    write_audit_parameters, sort_cvr_sample_num, consistent_sampling\n",
    "\n",
    "import os\n",
    "import io\n",
    "import re\n",
    "import numpy as np\n",
    "import math\n",
    "import csv\n",
    "import pandas as pd\n",
    "import warnings\n",
    "import copy\n",
    "import xml.etree.ElementTree as ET\n",
    "import xml.dom.minidom\n",
    "import cryptorandom\n",
    "from cryptorandom.cryptorandom import SHA256, int_from_hash_py3, int_from_hash\n",
    "from cryptorandom.sample import random_permutation, sample_by_index\n",
    "from numpy.random import choice"
   ]
  },
  {
   "cell_type": "code",
   "execution_count": 2,
   "id": "b391c65a-9f5a-4dbc-a7b6-05661d891df2",
   "metadata": {},
   "outputs": [],
   "source": [
    "from hart_tools import (\n",
    "    prep_manifest,\n",
    "    read_hart_cvr, \n",
    "    read_cvrs, \n",
    "    check_for_contest,\n",
    "    filter_cvr_contest,\n",
    "    tabulate_styles\n",
    ")"
   ]
  },
  {
   "cell_type": "code",
   "execution_count": 3,
   "id": "c78cad3e-a7d3-438b-947e-90f0d7c26913",
   "metadata": {},
   "outputs": [
    {
     "data": {
      "text/plain": [
       "9"
      ]
     },
     "execution_count": 3,
     "metadata": {},
     "output_type": "execute_result"
    }
   ],
   "source": [
    "# read in CVRs\n",
    "cvr_list = read_cvrs(cvr_folder = \"Data/hart/OC2021/oc_cvrs_for_testing_v2\")\n",
    "# read in manifest\n",
    "manifest = pd.read_csv(\"Data/hart/OC2021/oc_manifest_sample.csv\")\n",
    "len(cvr_list)"
   ]
  },
  {
   "cell_type": "code",
   "execution_count": 4,
   "id": "57a848d9-aad6-462f-a178-77f9b3cd83ac",
   "metadata": {},
   "outputs": [],
   "source": [
    "### Function to generate fake CVRs ###\n",
    "def generate_fake_cvrs(contest_dict, style_dict):\n",
    "    fake_cvr_list = []\n",
    "    # loop through each style\n",
    "    for style in style_dict.keys():\n",
    "        # loop through the number of cards of that style\n",
    "        for i in range(style_dict[style]['cards']):\n",
    "            # loop through the contests in that style and generate CVR\n",
    "            cvr = CVR(id = None, votes = {}, phantom=False, sample_num=None, p=None)\n",
    "            for contest in style_dict[style]['contests']:\n",
    "                # randomly choose vote for that contest based on contest probabilities\n",
    "                cvr.set_votes({contest : {choice(contest_dict[contest]['candidates'], \n",
    "                                                        1, contest_dict[contest]['p'])[0] : True}})\n",
    "            # add cvr to list\n",
    "            fake_cvr_list.append(cvr)\n",
    "    # return the list of CVRs generated\n",
    "    return fake_cvr_list\n",
    "            \n",
    "            \n",
    "## Q: what if margin varies by style for a contest? \n",
    "## Maybe just give the contest a different name like Contest 1 Region A ?\n",
    "contest_dict = {'Contest 1' : {'candidates' : ['Candidate A', 'Candidate B'], 'p' : [0.55, 0.45]},\n",
    "'Contest 2' : {'candidates' : ['Candidate A', 'Candidate B'], 'p' : [0.7, 0.3]},\n",
    "'Contest 3' : {'candidates' : ['Candidate A', 'Candidate B'], 'p' : [0.6, 0.4]},\n",
    "'Contest 4' : {'candidates' : ['Candidate A', 'Candidate B'], 'p' : [0.2, 0.8]},\n",
    "'Contest 5' : {'candidates' : ['Candidate A', 'Candidate B'], 'p' : [0.34, 0.66]}}\n",
    "\n",
    "style_dict = {'style_1' : {'contests' : ['Contest 1', 'Contest 2'], 'cards' : 10},\n",
    "'style_2' : {'contests' : ['Contest 3', 'Contest 4', 'Contest 5'], 'cards' : 2},\n",
    "'style_3' : {'contests' : ['Contest 1', 'Contest 2', 'Contest 3', 'Contest 4', 'Contest 5'],\n",
    "           'cards' : 15}\n",
    "}\n",
    "         \n",
    "fake_cvr_list = generate_fake_cvrs(contest_dict, style_dict)"
   ]
  },
  {
   "cell_type": "code",
   "execution_count": 5,
   "id": "ff5455dd-cff4-4699-b7f5-be9d5da3915c",
   "metadata": {},
   "outputs": [
    {
     "data": {
      "text/plain": [
       "{'Contest 1': {'Candidate A': True}, 'Contest 2': {'Candidate A': True}}"
      ]
     },
     "execution_count": 5,
     "metadata": {},
     "output_type": "execute_result"
    }
   ],
   "source": [
    "fake_cvr_list[0].votes"
   ]
  },
  {
   "cell_type": "code",
   "execution_count": 6,
   "id": "46dbb997-41d7-41e3-9c61-eba13c6105bd",
   "metadata": {},
   "outputs": [],
   "source": [
    "# set values\n",
    "seed = 1234567890  # use, e.g., 20 rolls of a 10-sided die. Seed doesn't have to be numeric\n",
    "replacement = False\n",
    "\n",
    "risk_function = \"alpha_mart\"\n",
    "#because comparison audit, may want to add f parameter to bias alpha towards u\n",
    "risk_fn = lambda x, m, N: TestNonnegMean.alpha_mart(x, eta=(m+1)/2 , N=N, f=.1)\n",
    "g = 0.1\n",
    "max_cards = 14\n",
    "error_rate = 0.002"
   ]
  },
  {
   "cell_type": "code",
   "execution_count": 7,
   "id": "63b584f4-675f-486d-a3ef-101bae5270c4",
   "metadata": {},
   "outputs": [],
   "source": [
    "# contests to audit\n",
    "# there are actually only 5 cards in the CVR list with this contest\n",
    "contests = {'PRESIDENT AND VICE PRESIDENT':{'risk_limit':0.05,\n",
    "                     'cards': 6,\n",
    "                     'choice_function':'plurality',\n",
    "                     'n_winners':1,\n",
    "                     'candidates':['JOSEPH R. BIDEN\\nKAMALA D. HARRIS',\n",
    "                                   'DONALD J. TRUMP\\nMICHAEL R. PENCE'],\n",
    "                     'reported_winners' : ['DONALD J. TRUMP\\nMICHAEL R. PENCE'],\n",
    "                    }\n",
    "           }"
   ]
  },
  {
   "cell_type": "code",
   "execution_count": 8,
   "id": "879dbabb-3bda-4deb-9f9e-0fd497c071e7",
   "metadata": {},
   "outputs": [],
   "source": [
    "all_assertions = Assertion.make_all_assertions(contests)"
   ]
  },
  {
   "cell_type": "code",
   "execution_count": 9,
   "id": "756b94f3-7a95-4f19-a97b-f4fd3d6a1497",
   "metadata": {},
   "outputs": [
    {
     "name": "stdout",
     "output_type": "stream",
     "text": [
      "Created 1 phantom records\n"
     ]
    },
    {
     "data": {
      "text/plain": [
       "True"
      ]
     },
     "execution_count": 9,
     "metadata": {},
     "output_type": "execute_result"
    }
   ],
   "source": [
    "cvr_list, phantom_vrs = CVR.make_phantoms(max_cards, cvr_list, contests, use_style=True, prefix='phantom-1-')\n",
    "print(f\"Created {phantom_vrs} phantom records\")\n",
    "# assign random sample nums including phantoms\n",
    "CVR.assign_sample_nums(cvr_list, prng=SHA256(32))"
   ]
  },
  {
   "cell_type": "code",
   "execution_count": 10,
   "id": "08012134-2d01-4b9e-a4eb-49bd4b911ae7",
   "metadata": {},
   "outputs": [
    {
     "data": {
      "text/plain": [
       "0.16666666666666674"
      ]
     },
     "execution_count": 10,
     "metadata": {},
     "output_type": "execute_result"
    }
   ],
   "source": [
    "min_margin = find_margins(contests, cvr_list, use_style=True)\n",
    "min_margin"
   ]
  },
  {
   "cell_type": "code",
   "execution_count": 11,
   "id": "034183d0-8410-4de3-98cf-70a4780dd235",
   "metadata": {},
   "outputs": [],
   "source": [
    "check_audit_parameters(risk_function, g, error_rate, contests)"
   ]
  },
  {
   "cell_type": "code",
   "execution_count": 12,
   "id": "ad06cef1-423c-4819-bf67-72f7dec2a724",
   "metadata": {},
   "outputs": [],
   "source": [
    "### New find_sample_size function to update p in cvr_list\n",
    "def find_sample_size(contests, sample_size_function, use_style = True, cvr_list = None, max_cards = max_cards):\n",
    "    '''\n",
    "    Find initial sample size: maximum across assertions for all contests.\n",
    "\n",
    "    Parameters:\n",
    "    -----------\n",
    "    contests : dict of dicts\n",
    "    assertion : dict of dicts\n",
    "    sample_size_function : callable\n",
    "        takes three parameters: margin, risk limit, cards; returns a sample size\n",
    "        cards is read from the contest dict.\n",
    "\n",
    "    Returns:\n",
    "    --------\n",
    "    total_sample_size : int\n",
    "        sample size expected to be adequate to confirm all assertions for all contests\n",
    "    contest_sample_size : dict of ints\n",
    "        sample sizes expected to be adequate to confirm each contest (keys are contests)\n",
    "    '''\n",
    "    sample_sizes = {c:0 for c in contests.keys()}\n",
    "    if use_style and cvr_list is None:\n",
    "        raise ValueError(\"use_style is True but cvr_list was not provided.\")\n",
    "    if use_style:\n",
    "        for cvr in cvr_list: \n",
    "            cvr.set_p(0)\n",
    "        for c in contests:\n",
    "            risk = contests[c]['risk_limit']\n",
    "            cards = contests[c]['cards']\n",
    "            contest_sample_size = 0\n",
    "            for a in contests[c]['assertions']:\n",
    "                margin = contests[c]['assertions'][a].margin\n",
    "                contest_sample_size = np.max([contest_sample_size, sample_size_function(margin, risk, cards)])\n",
    "            sample_sizes[c] = contest_sample_size\n",
    "            # update p for that contest if have CVR data\n",
    "            for cvr in cvr_list:\n",
    "                if cvr.has_contest(c):\n",
    "                    cvr.set_p(np.maximum(contest_sample_size / contests[c]['cards'], cvr.p))\n",
    "    \n",
    "        total_sample_size = np.sum(np.array([x.get_p() for x in cvr_list]))\n",
    "    else:\n",
    "        if max_cards is None:\n",
    "            raise ValueError(\"use_style is False but max_cards was not provided.\")\n",
    "        cards = max_cards\n",
    "        for c in contests:\n",
    "            contest_sample_size = 0\n",
    "            risk = contests[c]['risk_limit']\n",
    "            for a in contests[c]['assertions']:\n",
    "                margin = contests[c]['assertions'][a].margin\n",
    "                contest_sample_size = np.max([contest_sample_size, sample_size_function(margin, risk, cards)])\n",
    "            sample_sizes[c] = contest_sample_size\n",
    "        total_sample_size = np.max(np.array(sample_sizes.values))\n",
    "    return total_sample_size, sample_sizes"
   ]
  },
  {
   "cell_type": "code",
   "execution_count": 13,
   "id": "c10f5e41",
   "metadata": {},
   "outputs": [
    {
     "name": "stdout",
     "output_type": "stream",
     "text": [
      "6.0\n"
     ]
    }
   ],
   "source": [
    "# find initial sample size\n",
    "#JS Note: I've had to go through and add \"N\" (the population size) to many of the risk_fn arguments here and in /\n",
    "# assertion_audit_utils.py. This is needed because N depends on contest when style is used.\n",
    "# For example, find_p_values() did not pass an N argumetn to risk_fn, and I added it.\n",
    "# Will need to make sure these work w/ and w/o replacement\n",
    "rf = lambda x,m,N: risk_fn(x,m,N)[1]   # p_history is the second returned value\n",
    "ss_fn = lambda m, r, N: TestNonnegMean.initial_sample_size(\\\n",
    "                        risk_function=rf, N=N, margin=m, polling=False, \\\n",
    "                        error_rate=error_rate, alpha=r, reps=10) # change for comparison audits\n",
    "total_sample_size, sample_size_contests = find_sample_size(contests, sample_size_function=ss_fn, use_style = True, cvr_list = cvr_list)  \n",
    "print(total_sample_size)\n",
    "#see what happens if we sample all cards\n",
    "#sample_size_contests['PRESIDENT AND VICE PRESIDENT'] = 18"
   ]
  },
  {
   "cell_type": "code",
   "execution_count": 14,
   "id": "b0fb0fc4-40c1-4c76-9e64-affc1493786b",
   "metadata": {},
   "outputs": [
    {
     "name": "stdout",
     "output_type": "stream",
     "text": [
      "False\n",
      "0\n",
      "True\n",
      "1.0\n"
     ]
    }
   ],
   "source": [
    "print(cvr_list[4].has_contest('PRESIDENT AND VICE PRESIDENT'))\n",
    "print(cvr_list[4].p)\n",
    "\n",
    "print(cvr_list[2].has_contest('PRESIDENT AND VICE PRESIDENT'))\n",
    "print(cvr_list[2].p)"
   ]
  },
  {
   "cell_type": "code",
   "execution_count": 15,
   "id": "710143e2-3da0-44c3-b5ef-bbe9f6204012",
   "metadata": {},
   "outputs": [],
   "source": [
    "sample_indices = consistent_sampling(\n",
    "    cvr_list, \n",
    "    contests = contests, \n",
    "    sample_size_dict = sample_size_contests)"
   ]
  },
  {
   "cell_type": "code",
   "execution_count": 16,
   "id": "1ce45c51-596a-4f15-a043-87e6d1148393",
   "metadata": {},
   "outputs": [],
   "source": [
    "# set mvr_list to be the same as cvr_list for now -- sample order??\n",
    "mvr_list = copy.deepcopy(cvr_list)"
   ]
  },
  {
   "cell_type": "code",
   "execution_count": 17,
   "id": "32bdad93-281c-431b-a8df-3d3b278142ec",
   "metadata": {},
   "outputs": [
    {
     "data": {
      "text/html": [
       "<div>\n",
       "<style scoped>\n",
       "    .dataframe tbody tr th:only-of-type {\n",
       "        vertical-align: middle;\n",
       "    }\n",
       "\n",
       "    .dataframe tbody tr th {\n",
       "        vertical-align: top;\n",
       "    }\n",
       "\n",
       "    .dataframe thead th {\n",
       "        text-align: right;\n",
       "    }\n",
       "</style>\n",
       "<table border=\"1\" class=\"dataframe\">\n",
       "  <thead>\n",
       "    <tr style=\"text-align: right;\">\n",
       "      <th></th>\n",
       "      <th>Container</th>\n",
       "      <th>Tabulator</th>\n",
       "      <th>Batch Name</th>\n",
       "      <th>Number of Ballots</th>\n",
       "    </tr>\n",
       "  </thead>\n",
       "  <tbody>\n",
       "    <tr>\n",
       "      <th>0</th>\n",
       "      <td>Mail</td>\n",
       "      <td>1</td>\n",
       "      <td>1</td>\n",
       "      <td>60</td>\n",
       "    </tr>\n",
       "    <tr>\n",
       "      <th>1</th>\n",
       "      <td>Mail</td>\n",
       "      <td>1</td>\n",
       "      <td>2</td>\n",
       "      <td>21</td>\n",
       "    </tr>\n",
       "    <tr>\n",
       "      <th>2</th>\n",
       "      <td>Mail</td>\n",
       "      <td>1</td>\n",
       "      <td>3</td>\n",
       "      <td>123</td>\n",
       "    </tr>\n",
       "    <tr>\n",
       "      <th>3</th>\n",
       "      <td>Mail</td>\n",
       "      <td>1</td>\n",
       "      <td>4</td>\n",
       "      <td>59</td>\n",
       "    </tr>\n",
       "    <tr>\n",
       "      <th>4</th>\n",
       "      <td>Mail</td>\n",
       "      <td>1</td>\n",
       "      <td>5</td>\n",
       "      <td>87</td>\n",
       "    </tr>\n",
       "    <tr>\n",
       "      <th>...</th>\n",
       "      <td>...</td>\n",
       "      <td>...</td>\n",
       "      <td>...</td>\n",
       "      <td>...</td>\n",
       "    </tr>\n",
       "    <tr>\n",
       "      <th>4412</th>\n",
       "      <td>In-Person</td>\n",
       "      <td>In Person - 5</td>\n",
       "      <td>514</td>\n",
       "      <td>418</td>\n",
       "    </tr>\n",
       "    <tr>\n",
       "      <th>4413</th>\n",
       "      <td>In-Person</td>\n",
       "      <td>In Person - 5</td>\n",
       "      <td>515</td>\n",
       "      <td>381</td>\n",
       "    </tr>\n",
       "    <tr>\n",
       "      <th>4414</th>\n",
       "      <td>In-Person</td>\n",
       "      <td>In Person - 5</td>\n",
       "      <td>516</td>\n",
       "      <td>240</td>\n",
       "    </tr>\n",
       "    <tr>\n",
       "      <th>4415</th>\n",
       "      <td>In-Person</td>\n",
       "      <td>In Person - 5</td>\n",
       "      <td>517</td>\n",
       "      <td>403</td>\n",
       "    </tr>\n",
       "    <tr>\n",
       "      <th>4416</th>\n",
       "      <td>In-Person</td>\n",
       "      <td>In Person - 5</td>\n",
       "      <td>518</td>\n",
       "      <td>100</td>\n",
       "    </tr>\n",
       "  </tbody>\n",
       "</table>\n",
       "<p>4417 rows × 4 columns</p>\n",
       "</div>"
      ],
      "text/plain": [
       "      Container      Tabulator Batch Name  Number of Ballots\n",
       "0          Mail              1          1                 60\n",
       "1          Mail              1          2                 21\n",
       "2          Mail              1          3                123\n",
       "3          Mail              1          4                 59\n",
       "4          Mail              1          5                 87\n",
       "...         ...            ...        ...                ...\n",
       "4412  In-Person  In Person - 5        514                418\n",
       "4413  In-Person  In Person - 5        515                381\n",
       "4414  In-Person  In Person - 5        516                240\n",
       "4415  In-Person  In Person - 5        517                403\n",
       "4416  In-Person  In Person - 5        518                100\n",
       "\n",
       "[4417 rows x 4 columns]"
      ]
     },
     "execution_count": 17,
     "metadata": {},
     "output_type": "execute_result"
    }
   ],
   "source": [
    "manifest"
   ]
  },
  {
   "cell_type": "code",
   "execution_count": 18,
   "id": "c4569f7d-9f0f-4760-ac9c-a831854c048b",
   "metadata": {},
   "outputs": [],
   "source": [
    "sampled_cvrs = [cvr_list[i-1] for i in sample_indices]\n",
    "sampled_mvrs = [mvr_list[i-1] for i in sample_indices]"
   ]
  },
  {
   "cell_type": "code",
   "execution_count": 19,
   "id": "e498e695",
   "metadata": {},
   "outputs": [
    {
     "name": "stdout",
     "output_type": "stream",
     "text": [
      "p-values for assertions in contest PRESIDENT AND VICE PRESIDENT\n",
      "DONALD J. TRUMP\n",
      "MICHAEL R. PENCE v JOSEPH R. BIDEN\n",
      "KAMALA D. HARRIS 0.8325187510665614\n",
      "\n",
      "contest PRESIDENT AND VICE PRESIDENT audit INCOMPLETE at risk limit 0.05. Attained risk 0.8325187510665614\n",
      "assertions remaining to be proved:\n",
      "DONALD J. TRUMP\n",
      "MICHAEL R. PENCE v JOSEPH R. BIDEN\n",
      "KAMALA D. HARRIS: current risk 0.8325187510665614\n"
     ]
    },
    {
     "data": {
      "text/plain": [
       "False"
      ]
     },
     "execution_count": 19,
     "metadata": {},
     "output_type": "execute_result"
    }
   ],
   "source": [
    "p_max = find_p_values(\n",
    "    contests = contests, \n",
    "    mvr_sample = sampled_mvrs, \n",
    "    cvr_sample = sampled_cvrs, \n",
    "    use_style = True, \n",
    "    risk_function=risk_fn)\n",
    "summarize_status(contests)"
   ]
  },
  {
   "cell_type": "code",
   "execution_count": 22,
   "id": "d6dcb6e5",
   "metadata": {},
   "outputs": [],
   "source": [
    "#I have changed this to return a dict of sample sizes across contests at a particular quantile/ \n",
    "# and a dict of sample size distributions across contests\n",
    "def new_sample_size(contests, mvr_sample, cvr_sample=None, cvr_list = None, use_style=True,\\\n",
    "                    risk_function=(lambda x, m:TestNonnegMean.alpha_mart(x)), \\\n",
    "                    quantile=0.5, reps=200, seed=1234567890):\n",
    "    '''\n",
    "    Estimate the total sample size expected to allow the audit to complete,\n",
    "    if discrepancies continue at the same rate already observed.\n",
    "\n",
    "    Uses simulations. For speed, uses the numpy.random Mersenne Twister instead of cryptorandom.\n",
    "\n",
    "    Parameters:\n",
    "    -----------\n",
    "    contests : dict of dicts\n",
    "        the contest data structure. outer keys are contest identifiers; inner keys are assertions\n",
    "\n",
    "    mvr_sample : list of CVR objects\n",
    "        the manually ascertained voter intent from sheets, including entries for phantoms\n",
    "\n",
    "    cvr_sample : list of CVR objects\n",
    "        the cvrs for the same sheets. For\n",
    "\n",
    "    use_style : Boolean\n",
    "        If True, use style information inferred from CVRs to target the sample on cards that contain\n",
    "        each contest. Otherwise, sample from all cards.\n",
    "\n",
    "    risk_function : callable\n",
    "        function to calculate the p-value from overstatement_assorter values.\n",
    "        Should take three arguments, the sample x, the margin m, and the number of cards N.\n",
    "\n",
    "    quantile : float\n",
    "        estimated quantile of the sample size to return\n",
    "\n",
    "    reps : int\n",
    "        number of replications to use to estimate the quantile\n",
    "\n",
    "    seed : int\n",
    "        seed for the Mersenne Twister prng\n",
    "\n",
    "    Returns:\n",
    "    --------\n",
    "    new_size : int\n",
    "        new sample size\n",
    "    sams : array of ints\n",
    "        array of all sizes found in the simulation\n",
    "    '''\n",
    "    if use_style and cvr_list is None:\n",
    "        raise ValueError(\"use_style is True but cvr_list was not provided.\")\n",
    "    if use_style:\n",
    "        for cvr in cvr_list: \n",
    "            cvr.set_p(0)\n",
    "    prng = np.random.RandomState(seed=seed)\n",
    "    sample_sizes = {c:np.zeros(reps) for c in contests.keys()}\n",
    "    for r in range(reps):\n",
    "        for c in contests:\n",
    "            new_size = 0\n",
    "            cards = contests[c]['cards']\n",
    "            #raise an error or warning if the error rate implies the reported outcome is wrong\n",
    "            for a in contests[c]['assertions']:\n",
    "                if not contests[c]['assertions'][a].proved:\n",
    "                    p = contests[c]['assertions'][a].p_value\n",
    "                    if cvr_sample:\n",
    "                        d = [contests[c]['assertions'][a].overstatement_assorter(mvr_sample[i], cvr_sample[i],\\\n",
    "                            contests[c]['assertions'][a].margin, use_style=use_style) for i in range(len(mvr_sample))]\n",
    "                    else:\n",
    "                        d = [contests[c]['assertions'][a].assort(mvr_sample[i], use_style=use_style) for i in range(len(mvr_sample))]\n",
    "                    while p > contests[c]['risk_limit'] and new_size < cards:\n",
    "                        one_more = sample_by_index(len(d), 1, prng=prng)[0]\n",
    "                        d.append(d[one_more-1])\n",
    "                        p = risk_function(d, contests[c]['assertions'][a].margin, cards)[0]\n",
    "                    new_size = np.max([new_size, len(d)])\n",
    "            sample_sizes[c][r] = new_size   \n",
    "    sample_size_quantiles = {c:int(np.quantile(sample_sizes[c], quantile)) for c in sample_sizes.keys()}\n",
    "    #need to figure out how to measure total sample size without CVRs/style information \n",
    "    if cvr_list:\n",
    "        for cvr in cvr_list:\n",
    "            for c in contests:\n",
    "                if cvr.has_contest(c): # & cvr not in cvr_sample: <- is this accounting for sampled cards twice?\n",
    "                    cvr.set_p(np.max(sample_size_quantiles[c] / contests[c]['cards'], cvr.p))\n",
    "        total_sample_size = np.round(np.sum(np.array([x.get_p() for x in cvr_list])))\n",
    "    else: \n",
    "        total_sample_size = np.max(np.array(sample_size_quantiles.values))\n",
    "    return total_sample_size, sample_size_quantiles"
   ]
  },
  {
   "cell_type": "code",
   "execution_count": 23,
   "id": "f298abe6",
   "metadata": {},
   "outputs": [
    {
     "name": "stderr",
     "output_type": "stream",
     "text": [
      "/Users/Jake/Dropbox/RLAs/SHANGRLA/Code/assertion_audit_utils.py:1112: RuntimeWarning: divide by zero encountered in true_divide\n",
      "  m = (N*t-S)/(N-j+1) if np.isfinite(N) else t   # mean of population after (j-1)st draw, if null is true\n"
     ]
    },
    {
     "data": {
      "text/plain": [
       "(8.0, {'PRESIDENT AND VICE PRESIDENT': 7})"
      ]
     },
     "execution_count": 23,
     "metadata": {},
     "output_type": "execute_result"
    }
   ],
   "source": [
    "#need to determine how to escalate with consistent sampling\n",
    "#replace sample_by_index() in new_sample_size() with consistent sampling\n",
    "#keep track of incremental samples (rounds)?\n",
    "#this is very, very slow\n",
    "new_sample_size(\n",
    "    contests = contests, \n",
    "    mvr_sample = sampled_mvrs, \n",
    "    cvr_sample = sampled_cvrs,\n",
    "    cvr_list = cvr_list,\n",
    "    use_style = True,\n",
    "    risk_function = risk_fn\n",
    ")"
   ]
  },
  {
   "cell_type": "code",
   "execution_count": null,
   "id": "1eb49f7d",
   "metadata": {},
   "outputs": [],
   "source": []
  }
 ],
 "metadata": {
  "kernelspec": {
   "display_name": "Python 3 (ipykernel)",
   "language": "python",
   "name": "python3"
  },
  "language_info": {
   "codemirror_mode": {
    "name": "ipython",
    "version": 3
   },
   "file_extension": ".py",
   "mimetype": "text/x-python",
   "name": "python",
   "nbconvert_exporter": "python",
   "pygments_lexer": "ipython3",
   "version": "3.8.9"
  }
 },
 "nbformat": 4,
 "nbformat_minor": 5
}
