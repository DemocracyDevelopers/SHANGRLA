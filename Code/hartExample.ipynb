{
 "cells": [
  {
   "cell_type": "code",
   "execution_count": 1,
   "id": "62c948c6-3afa-44f0-bb3b-edba262f4ce3",
   "metadata": {},
   "outputs": [],
   "source": [
    "from hart_tools import (\n",
    "    prep_manifest,\n",
    "    read_hart_cvr, \n",
    "    read_cvrs, \n",
    "    check_for_contest,\n",
    "    filter_cvr_contest,\n",
    "    tabulate_styles\n",
    ")\n",
    "\n",
    "from IPython.core.interactiveshell import InteractiveShell\n",
    "\n",
    "from assertion_audit_utils import \\\n",
    "    Assertion, Assorter, CVR, TestNonnegMean, check_audit_parameters, find_margins,\\\n",
    "    find_p_values, find_sample_size, new_sample_size, summarize_status,\\\n",
    "    write_audit_parameters, sort_cvr_sample_num, consistent_sampling\n",
    "\n",
    "import os\n",
    "import io\n",
    "import re\n",
    "import numpy as np\n",
    "import math\n",
    "import csv\n",
    "import pandas as pd\n",
    "import warnings\n",
    "import copy\n",
    "import xml.etree.ElementTree as ET\n",
    "import xml.dom.minidom\n",
    "import cryptorandom\n",
    "from cryptorandom.cryptorandom import SHA256, int_from_hash_py3, int_from_hash\n",
    "from cryptorandom.sample import random_permutation, sample_by_index"
   ]
  },
  {
   "cell_type": "code",
   "execution_count": 2,
   "id": "c78cad3e-a7d3-438b-947e-90f0d7c26913",
   "metadata": {},
   "outputs": [
    {
     "data": {
      "text/plain": [
       "9"
      ]
     },
     "execution_count": 2,
     "metadata": {},
     "output_type": "execute_result"
    }
   ],
   "source": [
    "# read in CVRs\n",
    "cvr_list = read_cvrs(cvr_folder = \"Data/hart/OC2021/oc_cvrs_for_testing_v2\")\n",
    "# read in manifest\n",
    "manifest = pd.read_csv(\"Data/hart/OC2021/oc_manifest_sample.csv\")\n",
    "len(cvr_list)"
   ]
  },
  {
   "cell_type": "code",
   "execution_count": 3,
   "id": "46dbb997-41d7-41e3-9c61-eba13c6105bd",
   "metadata": {},
   "outputs": [],
   "source": [
    "# set values\n",
    "seed = 1234567890  # use, e.g., 20 rolls of a 10-sided die. Seed doesn't have to be numeric\n",
    "replacement = False\n",
    "\n",
    "risk_function = \"alpha_mart\"\n",
    "#because comparison audit, may want to add f parameter to bias alpha towards u\n",
    "risk_fn = lambda x, m: TestNonnegMean.alpha_mart(x, eta=(m+1)/2 , N=max_cards, f=.1)\n",
    "g = 0.1\n",
    "max_cards = 9 + 1 # number in the sample plus 1\n",
    "error_rate = 0.002"
   ]
  },
  {
   "cell_type": "code",
   "execution_count": 4,
   "id": "63b584f4-675f-486d-a3ef-101bae5270c4",
   "metadata": {},
   "outputs": [],
   "source": [
    "# contests to audit. Edit with details of your contest (eg., Contest 1 is the pres race)\n",
    "contests = {'PRESIDENT AND VICE PRESIDENT':{'risk_limit':0.05,\n",
    "                     'cards': 14,\n",
    "                     'choice_function':'plurality',\n",
    "                     'n_winners':1,\n",
    "                     'candidates':['JOSEPH R. BIDEN\\nKAMALA D. HARRIS',\n",
    "                                   'DONALD J. TRUMP\\nMICHAEL R. PENCE'],\n",
    "                     'reported_winners' : ['DONALD J. TRUMP\\nMICHAEL R. PENCE'],\n",
    "                    }\n",
    "           }"
   ]
  },
  {
   "cell_type": "code",
   "execution_count": 5,
   "id": "879dbabb-3bda-4deb-9f9e-0fd497c071e7",
   "metadata": {},
   "outputs": [],
   "source": [
    "all_assertions = Assertion.make_all_assertions(contests)"
   ]
  },
  {
   "cell_type": "code",
   "execution_count": 6,
   "id": "7c4d2302-c4da-40d8-8932-f1a4eb9ad094",
   "metadata": {},
   "outputs": [
    {
     "data": {
      "text/plain": [
       "{'PRESIDENT AND VICE PRESIDENT': {'risk_limit': 0.05,\n",
       "  'cards': 14,\n",
       "  'choice_function': 'plurality',\n",
       "  'n_winners': 1,\n",
       "  'candidates': ['JOSEPH R. BIDEN\\nKAMALA D. HARRIS',\n",
       "   'DONALD J. TRUMP\\nMICHAEL R. PENCE'],\n",
       "  'reported_winners': ['DONALD J. TRUMP\\nMICHAEL R. PENCE'],\n",
       "  'assertions': {'DONALD J. TRUMP\\nMICHAEL R. PENCE v JOSEPH R. BIDEN\\nKAMALA D. HARRIS': <assertion_audit_utils.Assertion at 0x103c913a0>}}}"
      ]
     },
     "execution_count": 6,
     "metadata": {},
     "output_type": "execute_result"
    }
   ],
   "source": [
    "contests"
   ]
  },
  {
   "cell_type": "code",
   "execution_count": 7,
   "id": "756b94f3-7a95-4f19-a97b-f4fd3d6a1497",
   "metadata": {},
   "outputs": [
    {
     "name": "stdout",
     "output_type": "stream",
     "text": [
      "Created 9 phantom records\n"
     ]
    },
    {
     "data": {
      "text/plain": [
       "True"
      ]
     },
     "execution_count": 7,
     "metadata": {},
     "output_type": "execute_result"
    }
   ],
   "source": [
    "cvr_list, phantom_vrs = CVR.make_phantoms(max_cards, cvr_list, contests, use_style=True, prefix='phantom-1-')\n",
    "print(f\"Created {phantom_vrs} phantom records\")\n",
    "# assign random sample nums including phantoms\n",
    "CVR.assign_sample_nums(cvr_list, prng=SHA256(32))"
   ]
  },
  {
   "cell_type": "code",
   "execution_count": 10,
   "id": "08012134-2d01-4b9e-a4eb-49bd4b911ae7",
   "metadata": {},
   "outputs": [
    {
     "data": {
      "text/plain": [
       "0.0714285714285714"
      ]
     },
     "execution_count": 10,
     "metadata": {},
     "output_type": "execute_result"
    }
   ],
   "source": [
    "min_margin = find_margins(contests, cvr_list, use_style=True)\n",
    "min_margin"
   ]
  },
  {
   "cell_type": "code",
   "execution_count": 11,
   "id": "034183d0-8410-4de3-98cf-70a4780dd235",
   "metadata": {},
   "outputs": [],
   "source": [
    "check_audit_parameters(risk_function, g, error_rate, contests)"
   ]
  },
  {
   "cell_type": "code",
   "execution_count": 12,
   "id": "5d888306-633d-45b1-8b04-0c05369c1cf4",
   "metadata": {},
   "outputs": [
    {
     "name": "stdout",
     "output_type": "stream",
     "text": [
      "1.0\n",
      "6.0\n"
     ]
    }
   ],
   "source": [
    "# find initial sample size\n",
    "rf = lambda x,m: risk_fn(x,m)[1]   # p_history is the second returned value\n",
    "ss_fn = lambda m, r: TestNonnegMean.initial_sample_size(\\\n",
    "                        risk_function=rf, N=max_cards, margin=m, polling=False, \\\n",
    "                        error_rate=error_rate, alpha=r, reps=10) # change for comparison audits\n",
    "sample_size = find_sample_size(contests, sample_size_function=ss_fn)  \n",
    "print(sample_size)\n",
    "sample_size = 6.\n",
    "print(sample_size)"
   ]
  },
  {
   "cell_type": "code",
   "execution_count": 13,
   "id": "710143e2-3da0-44c3-b5ef-bbe9f6204012",
   "metadata": {},
   "outputs": [],
   "source": [
    "sample_indices = consistent_sampling(\n",
    "    cvr_list, \n",
    "    contests = contests, \n",
    "    sample_size_dict = {'PRESIDENT AND VICE PRESIDENT' : sample_size})"
   ]
  },
  {
   "cell_type": "code",
   "execution_count": 14,
   "id": "1ce45c51-596a-4f15-a043-87e6d1148393",
   "metadata": {},
   "outputs": [],
   "source": [
    "# set mvr_list to be the same as cvr_list for now -- sample order??\n",
    "mvr_list = copy.deepcopy(cvr_list)"
   ]
  },
  {
   "cell_type": "code",
   "execution_count": 15,
   "id": "32bdad93-281c-431b-a8df-3d3b278142ec",
   "metadata": {},
   "outputs": [
    {
     "data": {
      "text/html": [
       "<div>\n",
       "<style scoped>\n",
       "    .dataframe tbody tr th:only-of-type {\n",
       "        vertical-align: middle;\n",
       "    }\n",
       "\n",
       "    .dataframe tbody tr th {\n",
       "        vertical-align: top;\n",
       "    }\n",
       "\n",
       "    .dataframe thead th {\n",
       "        text-align: right;\n",
       "    }\n",
       "</style>\n",
       "<table border=\"1\" class=\"dataframe\">\n",
       "  <thead>\n",
       "    <tr style=\"text-align: right;\">\n",
       "      <th></th>\n",
       "      <th>Container</th>\n",
       "      <th>Tabulator</th>\n",
       "      <th>Batch Name</th>\n",
       "      <th>Number of Ballots</th>\n",
       "    </tr>\n",
       "  </thead>\n",
       "  <tbody>\n",
       "    <tr>\n",
       "      <th>0</th>\n",
       "      <td>Mail</td>\n",
       "      <td>1</td>\n",
       "      <td>1</td>\n",
       "      <td>60</td>\n",
       "    </tr>\n",
       "    <tr>\n",
       "      <th>1</th>\n",
       "      <td>Mail</td>\n",
       "      <td>1</td>\n",
       "      <td>2</td>\n",
       "      <td>21</td>\n",
       "    </tr>\n",
       "    <tr>\n",
       "      <th>2</th>\n",
       "      <td>Mail</td>\n",
       "      <td>1</td>\n",
       "      <td>3</td>\n",
       "      <td>123</td>\n",
       "    </tr>\n",
       "    <tr>\n",
       "      <th>3</th>\n",
       "      <td>Mail</td>\n",
       "      <td>1</td>\n",
       "      <td>4</td>\n",
       "      <td>59</td>\n",
       "    </tr>\n",
       "    <tr>\n",
       "      <th>4</th>\n",
       "      <td>Mail</td>\n",
       "      <td>1</td>\n",
       "      <td>5</td>\n",
       "      <td>87</td>\n",
       "    </tr>\n",
       "    <tr>\n",
       "      <th>...</th>\n",
       "      <td>...</td>\n",
       "      <td>...</td>\n",
       "      <td>...</td>\n",
       "      <td>...</td>\n",
       "    </tr>\n",
       "    <tr>\n",
       "      <th>4412</th>\n",
       "      <td>In-Person</td>\n",
       "      <td>In Person - 5</td>\n",
       "      <td>514</td>\n",
       "      <td>418</td>\n",
       "    </tr>\n",
       "    <tr>\n",
       "      <th>4413</th>\n",
       "      <td>In-Person</td>\n",
       "      <td>In Person - 5</td>\n",
       "      <td>515</td>\n",
       "      <td>381</td>\n",
       "    </tr>\n",
       "    <tr>\n",
       "      <th>4414</th>\n",
       "      <td>In-Person</td>\n",
       "      <td>In Person - 5</td>\n",
       "      <td>516</td>\n",
       "      <td>240</td>\n",
       "    </tr>\n",
       "    <tr>\n",
       "      <th>4415</th>\n",
       "      <td>In-Person</td>\n",
       "      <td>In Person - 5</td>\n",
       "      <td>517</td>\n",
       "      <td>403</td>\n",
       "    </tr>\n",
       "    <tr>\n",
       "      <th>4416</th>\n",
       "      <td>In-Person</td>\n",
       "      <td>In Person - 5</td>\n",
       "      <td>518</td>\n",
       "      <td>100</td>\n",
       "    </tr>\n",
       "  </tbody>\n",
       "</table>\n",
       "<p>4417 rows × 4 columns</p>\n",
       "</div>"
      ],
      "text/plain": [
       "      Container      Tabulator Batch Name  Number of Ballots\n",
       "0          Mail              1          1                 60\n",
       "1          Mail              1          2                 21\n",
       "2          Mail              1          3                123\n",
       "3          Mail              1          4                 59\n",
       "4          Mail              1          5                 87\n",
       "...         ...            ...        ...                ...\n",
       "4412  In-Person  In Person - 5        514                418\n",
       "4413  In-Person  In Person - 5        515                381\n",
       "4414  In-Person  In Person - 5        516                240\n",
       "4415  In-Person  In Person - 5        517                403\n",
       "4416  In-Person  In Person - 5        518                100\n",
       "\n",
       "[4417 rows x 4 columns]"
      ]
     },
     "execution_count": 15,
     "metadata": {},
     "output_type": "execute_result"
    }
   ],
   "source": [
    "manifest"
   ]
  },
  {
   "cell_type": "code",
   "execution_count": 16,
   "id": "c4569f7d-9f0f-4760-ac9c-a831854c048b",
   "metadata": {},
   "outputs": [],
   "source": [
    "#consistent_sampling returns indices starting at 1?\n",
    "sampled_cvrs = [cvr_list[i-1] for i in sample_indices]\n",
    "#this assumes cvrs and mvrs have already been placed in the same order....\n",
    "#we might explicitly align them by an ID value\n",
    "sampled_mvrs = [mvr_list[i-1] for i in sample_indices]"
   ]
  },
  {
   "cell_type": "code",
   "execution_count": 17,
   "id": "e498e695",
   "metadata": {},
   "outputs": [
    {
     "name": "stdout",
     "output_type": "stream",
     "text": [
      "p-values for assertions in contest PRESIDENT AND VICE PRESIDENT\n",
      "DONALD J. TRUMP\n",
      "MICHAEL R. PENCE v JOSEPH R. BIDEN\n",
      "KAMALA D. HARRIS 0.9942611190817792\n",
      "\n",
      "contest PRESIDENT AND VICE PRESIDENT audit INCOMPLETE at risk limit 0.05. Attained risk 0.9942611190817792\n",
      "assertions remaining to be proved:\n",
      "DONALD J. TRUMP\n",
      "MICHAEL R. PENCE v JOSEPH R. BIDEN\n",
      "KAMALA D. HARRIS: current risk 0.9942611190817792\n"
     ]
    },
    {
     "data": {
      "text/plain": [
       "False"
      ]
     },
     "execution_count": 17,
     "metadata": {},
     "output_type": "execute_result"
    }
   ],
   "source": [
    "p_max = find_p_values(\n",
    "    contests = contests, \n",
    "    mvr_sample = sampled_mvrs, \n",
    "    cvr_sample = sampled_cvrs, \n",
    "    use_style = True, \n",
    "    risk_function=risk_fn)\n",
    "summarize_status(contests)"
   ]
  },
  {
   "cell_type": "code",
   "execution_count": 18,
   "id": "f298abe6",
   "metadata": {},
   "outputs": [
    {
     "name": "stdout",
     "output_type": "stream",
     "text": [
      "0\n",
      "1\n",
      "2\n",
      "3\n",
      "4\n",
      "5\n",
      "6\n",
      "7\n",
      "8\n",
      "9\n",
      "10\n",
      "11\n",
      "12\n",
      "13\n",
      "14\n",
      "15\n",
      "16\n",
      "17\n",
      "18\n",
      "19\n",
      "20\n",
      "21\n",
      "22\n",
      "23\n",
      "24\n",
      "25\n",
      "26\n",
      "27\n",
      "28\n",
      "29\n",
      "30\n",
      "31\n",
      "32\n",
      "33\n",
      "34\n",
      "35\n",
      "36\n",
      "37\n",
      "38\n",
      "39\n",
      "40\n",
      "41\n",
      "42\n",
      "43\n",
      "44\n",
      "45\n",
      "46\n",
      "47\n",
      "48\n",
      "49\n",
      "50\n",
      "51\n",
      "52\n",
      "53\n",
      "54\n",
      "55\n",
      "56\n",
      "57\n",
      "58\n",
      "59\n",
      "60\n",
      "61\n",
      "62\n",
      "63\n",
      "64\n",
      "65\n",
      "66\n",
      "67\n",
      "68\n",
      "69\n",
      "70\n",
      "71\n",
      "72\n",
      "73\n",
      "74\n",
      "75\n",
      "76\n",
      "77\n",
      "78\n",
      "79\n",
      "80\n",
      "81\n",
      "82\n",
      "83\n",
      "84\n",
      "85\n",
      "86\n",
      "87\n",
      "88\n",
      "89\n",
      "90\n",
      "91\n",
      "92\n",
      "93\n",
      "94\n",
      "95\n",
      "96\n",
      "97\n",
      "98\n",
      "99\n",
      "100\n",
      "101\n",
      "102\n",
      "103\n",
      "104\n",
      "105\n",
      "106\n",
      "107\n",
      "108\n",
      "109\n",
      "110\n",
      "111\n",
      "112\n",
      "113\n",
      "114\n",
      "115\n",
      "116\n",
      "117\n",
      "118\n",
      "119\n",
      "120\n",
      "121\n",
      "122\n",
      "123\n",
      "124\n",
      "125\n",
      "126\n",
      "127\n",
      "128\n",
      "129\n",
      "130\n",
      "131\n",
      "132\n",
      "133\n",
      "134\n",
      "135\n",
      "136\n",
      "137\n",
      "138\n",
      "139\n",
      "140\n",
      "141\n",
      "142\n",
      "143\n",
      "144\n",
      "145\n",
      "146\n",
      "147\n",
      "148\n",
      "149\n",
      "150\n",
      "151\n",
      "152\n",
      "153\n",
      "154\n",
      "155\n",
      "156\n",
      "157\n",
      "158\n",
      "159\n",
      "160\n",
      "161\n",
      "162\n",
      "163\n",
      "164\n",
      "165\n",
      "166\n",
      "167\n",
      "168\n",
      "169\n",
      "170\n",
      "171\n",
      "172\n",
      "173\n",
      "174\n",
      "175\n",
      "176\n",
      "177\n",
      "178\n",
      "179\n",
      "180\n",
      "181\n",
      "182\n",
      "183\n",
      "184\n",
      "185\n",
      "186\n",
      "187\n",
      "188\n",
      "189\n",
      "190\n",
      "191\n",
      "192\n",
      "193\n",
      "194\n",
      "195\n",
      "196\n",
      "197\n",
      "198\n",
      "199\n"
     ]
    },
    {
     "name": "stderr",
     "output_type": "stream",
     "text": [
      "/Users/Jake/Dropbox/RLAs/SHANGRLA/Code/assertion_audit_utils.py:1110: RuntimeWarning: divide by zero encountered in true_divide\n",
      "  m = (N*t-S)/(N-j+1) if np.isfinite(N) else t   # mean of population after (j-1)st draw, if null is true\n"
     ]
    },
    {
     "data": {
      "text/plain": [
       "(12.0,\n",
       " array([12., 12., 12., 12., 12., 12., 12., 12., 12., 12., 12., 12., 12.,\n",
       "        12., 12., 12., 12., 12., 12., 12., 12., 12., 12., 12., 12., 12.,\n",
       "        12., 12., 12., 12., 12., 12., 12., 12., 12., 12., 12., 12., 12.,\n",
       "        12., 12., 12., 12., 12., 12., 12., 12., 12., 12., 12., 12., 12.,\n",
       "        12., 12., 12., 12., 12., 12., 12., 12., 12., 12., 12., 12., 12.,\n",
       "        12., 12., 12., 12., 12., 12., 12., 12., 12., 12., 12., 12., 12.,\n",
       "        12., 12., 12., 12., 12., 12., 12., 12., 12., 12., 12., 12., 12.,\n",
       "        12., 12., 12., 12., 12., 12., 12., 12., 12., 12., 12., 12., 12.,\n",
       "        12., 12., 12., 12., 12., 12., 12., 12., 12., 12., 12., 12., 12.,\n",
       "        12., 12., 12., 12., 12., 12., 12., 12., 12., 12., 12., 12., 12.,\n",
       "        12., 12., 12., 12., 12., 12., 12., 12., 12., 12., 12., 12., 12.,\n",
       "        12., 12., 12., 12., 12., 12., 12., 12., 12., 12., 12., 12., 12.,\n",
       "        12., 12., 12., 12., 12., 12., 12., 12., 12., 12., 12., 12., 12.,\n",
       "        12., 12., 12., 12., 12., 12., 12., 12., 12., 12., 12., 12., 12.,\n",
       "        12., 12., 12., 12., 12., 12., 12., 12., 12., 12., 12., 12., 12.,\n",
       "        12., 12., 12., 12., 12.]))"
      ]
     },
     "execution_count": 18,
     "metadata": {},
     "output_type": "execute_result"
    }
   ],
   "source": [
    "#need to determine how to escalate with consistent sampling\n",
    "#replace sample_by_index() in new_sample_size() with consistent sampling\n",
    "#keep track of incremental samples (rounds)?\n",
    "#this is very, very slow\n",
    "new_sample_size(\n",
    "    contests = contests, \n",
    "    mvr_sample = sampled_mvrs, \n",
    "    cvr_sample = sampled_cvrs,\n",
    "    use_style = True,\n",
    "    risk_function = risk_fn\n",
    ")"
   ]
  },
  {
   "cell_type": "code",
   "execution_count": null,
   "id": "83ba213e",
   "metadata": {},
   "outputs": [],
   "source": []
  },
  {
   "cell_type": "code",
   "execution_count": null,
   "id": "0ddcf047",
   "metadata": {},
   "outputs": [],
   "source": []
  }
 ],
 "metadata": {
  "kernelspec": {
   "display_name": "Python 3 (ipykernel)",
   "language": "python",
   "name": "python3"
  },
  "language_info": {
   "codemirror_mode": {
    "name": "ipython",
    "version": 3
   },
   "file_extension": ".py",
   "mimetype": "text/x-python",
   "name": "python",
   "nbconvert_exporter": "python",
   "pygments_lexer": "ipython3",
   "version": "3.8.9"
  }
 },
 "nbformat": 4,
 "nbformat_minor": 5
}
