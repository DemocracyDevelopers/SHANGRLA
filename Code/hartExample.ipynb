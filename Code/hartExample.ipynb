{
 "cells": [
  {
   "cell_type": "code",
   "execution_count": 1,
   "id": "62c948c6-3afa-44f0-bb3b-edba262f4ce3",
   "metadata": {},
   "outputs": [],
   "source": [
    "from hart_tools import (\n",
    "    prep_manifest,\n",
    "    read_hart_cvr, \n",
    "    read_cvrs, \n",
    "    check_for_contest,\n",
    "    filter_cvr_contest,\n",
    "    tabulate_styles\n",
    ")\n",
    "\n",
    "from IPython.core.interactiveshell import InteractiveShell\n",
    "\n",
    "from assertion_audit_utils import \\\n",
    "    Assertion, Assorter, CVR, TestNonnegMean, check_audit_parameters, find_margins,\\\n",
    "    find_p_values, find_sample_size, new_sample_size, summarize_status,\\\n",
    "    write_audit_parameters, sort_cvr_sample_num, consistent_sampling\n",
    "\n",
    "import os\n",
    "import io\n",
    "import re\n",
    "import numpy as np\n",
    "import math\n",
    "import csv\n",
    "import pandas as pd\n",
    "import warnings\n",
    "import copy\n",
    "import xml.etree.ElementTree as ET\n",
    "import xml.dom.minidom\n",
    "import cryptorandom\n",
    "from cryptorandom.cryptorandom import SHA256, int_from_hash_py3, int_from_hash"
   ]
  },
  {
   "cell_type": "code",
   "execution_count": 53,
   "id": "c78cad3e-a7d3-438b-947e-90f0d7c26913",
   "metadata": {},
   "outputs": [],
   "source": [
    "# read in CVRs\n",
    "cvr_list = read_cvrs(cvr_folder = \"Data/hart/OC2021/oc_cvrs_for_testing_v2\")\n",
    "# assign random sample nums to all CVRs\n",
    "CVR.assign_sample_nums(cvr_list, prng=SHA256(32))\n",
    "# read in manifest\n",
    "manifest = pd.read_csv(\"Data/hart/OC2021/oc_manifest_sample.csv\")"
   ]
  },
  {
   "cell_type": "code",
   "execution_count": 3,
   "id": "46dbb997-41d7-41e3-9c61-eba13c6105bd",
   "metadata": {},
   "outputs": [],
   "source": [
    "# set values\n",
    "seed = 12345678901234567890  # use, e.g., 20 rolls of a 10-sided die. Seed doesn't have to be numeric\n",
    "replacement = False\n",
    "\n",
    "risk_function = \"alpha_mart\"\n",
    "risk_fn = lambda x: TestNonnegMean.alpha_mart(x, N=max_cards)\n",
    "g = 0.1\n",
    "max_cards = 9 + 1 # number in the sample plus 1\n",
    "error_rate = 0.002"
   ]
  },
  {
   "cell_type": "code",
   "execution_count": 4,
   "id": "63b584f4-675f-486d-a3ef-101bae5270c4",
   "metadata": {},
   "outputs": [],
   "source": [
    "# contests to audit. Edit with details of your contest (eg., Contest 1 is the pres race)\n",
    "contests = {'PRESIDENT AND VICE PRESIDENT':{'risk_limit':0.05,\n",
    "                     'cards': 9,\n",
    "                     'choice_function':'plurality',\n",
    "                     'n_winners':1,\n",
    "                     'candidates':['JOSEPH R. BIDEN\\nKAMALA D. HARRIS',\n",
    "                                   'DONALD J. TRUMP\\nMICHAEL R. PENCE'],\n",
    "                     'reported_winners' : ['DONALD J. TRUMP\\nMICHAEL R. PENCE'],\n",
    "                    }\n",
    "           }"
   ]
  },
  {
   "cell_type": "code",
   "execution_count": 5,
   "id": "879dbabb-3bda-4deb-9f9e-0fd497c071e7",
   "metadata": {},
   "outputs": [],
   "source": [
    "all_assertions = Assertion.make_all_assertions(contests)"
   ]
  },
  {
   "cell_type": "code",
   "execution_count": 6,
   "id": "7c4d2302-c4da-40d8-8932-f1a4eb9ad094",
   "metadata": {},
   "outputs": [
    {
     "data": {
      "text/plain": [
       "{'PRESIDENT AND VICE PRESIDENT': {'DONALD J. TRUMP\\nMICHAEL R. PENCE v JOSEPH R. BIDEN\\nKAMALA D. HARRIS': <assertion_audit_utils.Assertion at 0x1252b2a30>}}"
      ]
     },
     "execution_count": 6,
     "metadata": {},
     "output_type": "execute_result"
    }
   ],
   "source": [
    "all_assertions"
   ]
  },
  {
   "cell_type": "code",
   "execution_count": 7,
   "id": "756b94f3-7a95-4f19-a97b-f4fd3d6a1497",
   "metadata": {},
   "outputs": [
    {
     "name": "stdout",
     "output_type": "stream",
     "text": [
      "Created 4 phantom records\n"
     ]
    }
   ],
   "source": [
    "cvr_list, phantom_vrs = CVR.make_phantoms(max_cards, cvr_list, contests, use_style=True, prefix='phantom-1-')\n",
    "print(f\"Created {phantom_vrs} phantom records\")"
   ]
  },
  {
   "cell_type": "code",
   "execution_count": 8,
   "id": "ddfbcdfe-5d04-4d7b-aad7-b6be580cc1fc",
   "metadata": {},
   "outputs": [
    {
     "data": {
      "text/plain": [
       "True"
      ]
     },
     "execution_count": 8,
     "metadata": {},
     "output_type": "execute_result"
    }
   ],
   "source": [
    "cvr_list[9].phantom"
   ]
  },
  {
   "cell_type": "code",
   "execution_count": 9,
   "id": "08012134-2d01-4b9e-a4eb-49bd4b911ae7",
   "metadata": {},
   "outputs": [],
   "source": [
    "min_margin = find_margins(contests, all_assertions, cvr_list, use_style=False)"
   ]
  },
  {
   "cell_type": "code",
   "execution_count": 10,
   "id": "9df7a7ec-b004-478a-a9e1-59bff842256f",
   "metadata": {},
   "outputs": [
    {
     "data": {
      "text/plain": [
       "0.07692307692307687"
      ]
     },
     "execution_count": 10,
     "metadata": {},
     "output_type": "execute_result"
    }
   ],
   "source": [
    "min_margin"
   ]
  },
  {
   "cell_type": "code",
   "execution_count": 11,
   "id": "034183d0-8410-4de3-98cf-70a4780dd235",
   "metadata": {},
   "outputs": [],
   "source": [
    "check_audit_parameters(risk_function, g, error_rate, contests)"
   ]
  },
  {
   "cell_type": "code",
   "execution_count": 12,
   "id": "5d888306-633d-45b1-8b04-0c05369c1cf4",
   "metadata": {},
   "outputs": [
    {
     "name": "stdout",
     "output_type": "stream",
     "text": [
      "1.0\n"
     ]
    }
   ],
   "source": [
    "# find initial sample size\n",
    "rf = lambda x: risk_fn(x)[1]   # p_history is the second returned value\n",
    "ss_fn = lambda m, r: TestNonnegMean.initial_sample_size(\\\n",
    "                        risk_function=rf, N=max_cards, margin=m, polling=False, \\\n",
    "                        error_rate=error_rate, alpha=r, reps=10) # change for comparison audits\n",
    "sample_size = find_sample_size(contests, all_assertions, sample_size_function=ss_fn)  \n",
    "print(sample_size)"
   ]
  },
  {
   "cell_type": "code",
   "execution_count": 45,
   "id": "710143e2-3da0-44c3-b5ef-bbe9f6204012",
   "metadata": {},
   "outputs": [
    {
     "data": {
      "text/plain": [
       "['85_1']"
      ]
     },
     "execution_count": 45,
     "metadata": {},
     "output_type": "execute_result"
    }
   ],
   "source": [
    "consistent_sampling(cvr_list, {'PRESIDENT AND VICE PRESIDENT' : 1})"
   ]
  },
  {
   "cell_type": "code",
   "execution_count": 47,
   "id": "1ce45c51-596a-4f15-a043-87e6d1148393",
   "metadata": {},
   "outputs": [],
   "source": [
    "# set mvr_list to be the same as cvr_list for now -- sample order??\n",
    "mvr_list = copy.deepcopy(cvr_list)"
   ]
  },
  {
   "cell_type": "code",
   "execution_count": 59,
   "id": "32bdad93-281c-431b-a8df-3d3b278142ec",
   "metadata": {},
   "outputs": [
    {
     "data": {
      "text/html": [
       "<div>\n",
       "<style scoped>\n",
       "    .dataframe tbody tr th:only-of-type {\n",
       "        vertical-align: middle;\n",
       "    }\n",
       "\n",
       "    .dataframe tbody tr th {\n",
       "        vertical-align: top;\n",
       "    }\n",
       "\n",
       "    .dataframe thead th {\n",
       "        text-align: right;\n",
       "    }\n",
       "</style>\n",
       "<table border=\"1\" class=\"dataframe\">\n",
       "  <thead>\n",
       "    <tr style=\"text-align: right;\">\n",
       "      <th></th>\n",
       "      <th>Container</th>\n",
       "      <th>Tabulator</th>\n",
       "      <th>Batch Name</th>\n",
       "      <th>Number of Ballots</th>\n",
       "    </tr>\n",
       "  </thead>\n",
       "  <tbody>\n",
       "    <tr>\n",
       "      <th>0</th>\n",
       "      <td>Mail</td>\n",
       "      <td>1</td>\n",
       "      <td>1</td>\n",
       "      <td>60</td>\n",
       "    </tr>\n",
       "    <tr>\n",
       "      <th>1</th>\n",
       "      <td>Mail</td>\n",
       "      <td>1</td>\n",
       "      <td>2</td>\n",
       "      <td>21</td>\n",
       "    </tr>\n",
       "    <tr>\n",
       "      <th>2</th>\n",
       "      <td>Mail</td>\n",
       "      <td>1</td>\n",
       "      <td>3</td>\n",
       "      <td>123</td>\n",
       "    </tr>\n",
       "    <tr>\n",
       "      <th>3</th>\n",
       "      <td>Mail</td>\n",
       "      <td>1</td>\n",
       "      <td>4</td>\n",
       "      <td>59</td>\n",
       "    </tr>\n",
       "    <tr>\n",
       "      <th>4</th>\n",
       "      <td>Mail</td>\n",
       "      <td>1</td>\n",
       "      <td>5</td>\n",
       "      <td>87</td>\n",
       "    </tr>\n",
       "  </tbody>\n",
       "</table>\n",
       "</div>"
      ],
      "text/plain": [
       "  Container Tabulator Batch Name  Number of Ballots\n",
       "0      Mail         1          1                 60\n",
       "1      Mail         1          2                 21\n",
       "2      Mail         1          3                123\n",
       "3      Mail         1          4                 59\n",
       "4      Mail         1          5                 87"
      ]
     },
     "execution_count": 59,
     "metadata": {},
     "output_type": "execute_result"
    }
   ],
   "source": [
    "manifest.head()"
   ]
  },
  {
   "cell_type": "code",
   "execution_count": null,
   "id": "c4569f7d-9f0f-4760-ac9c-a831854c048b",
   "metadata": {},
   "outputs": [],
   "source": []
  }
 ],
 "metadata": {
  "kernelspec": {
   "display_name": "Python 3 (ipykernel)",
   "language": "python",
   "name": "python3"
  },
  "language_info": {
   "codemirror_mode": {
    "name": "ipython",
    "version": 3
   },
   "file_extension": ".py",
   "mimetype": "text/x-python",
   "name": "python",
   "nbconvert_exporter": "python",
   "pygments_lexer": "ipython3",
   "version": "3.9.7"
  }
 },
 "nbformat": 4,
 "nbformat_minor": 5
}
